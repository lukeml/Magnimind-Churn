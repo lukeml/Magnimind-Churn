{
  "nbformat": 4,
  "nbformat_minor": 0,
  "metadata": {
    "colab": {
      "name": "churn_project.ipynb",
      "provenance": [],
      "collapsed_sections": [],
      "authorship_tag": "ABX9TyNwSnk04RgI/ai2S8RfPx1l",
      "include_colab_link": true
    },
    "kernelspec": {
      "name": "python3",
      "display_name": "Python 3"
    },
    "language_info": {
      "name": "python"
    }
  },
  "cells": [
    {
      "cell_type": "markdown",
      "metadata": {
        "id": "view-in-github",
        "colab_type": "text"
      },
      "source": [
        "<a href=\"https://colab.research.google.com/github/lukeml/Magnimind-Churn/blob/main/churn_project.ipynb\" target=\"_parent\"><img src=\"https://colab.research.google.com/assets/colab-badge.svg\" alt=\"Open In Colab\"/></a>"
      ]
    },
    {
      "cell_type": "code",
      "execution_count": null,
      "metadata": {
        "id": "75GZDgh_Ja7X"
      },
      "outputs": [],
      "source": [
        "import os, sys\n",
        "from google.colab import drive"
      ]
    },
    {
      "cell_type": "code",
      "source": [
        "drive.mount('/content/drive')"
      ],
      "metadata": {
        "colab": {
          "base_uri": "https://localhost:8080/"
        },
        "id": "lkQXDH4gJutO",
        "outputId": "fe6d18c6-7575-438e-aefc-edfa98a50898"
      },
      "execution_count": null,
      "outputs": [
        {
          "output_type": "stream",
          "name": "stdout",
          "text": [
            "Mounted at /content/drive\n"
          ]
        }
      ]
    },
    {
      "cell_type": "code",
      "source": [
        "nb_path = '/content/notebooks'\n",
        "sys.path.insert(0,nb_path)"
      ],
      "metadata": {
        "id": "oF1vgMbiJwb-"
      },
      "execution_count": null,
      "outputs": []
    },
    {
      "cell_type": "code",
      "source": [
        "!chmod 755 -R '/content/drive/My Drive/Colab Notebooks/pyspark/./bin'"
      ],
      "metadata": {
        "id": "XENhJXrQJ2--"
      },
      "execution_count": null,
      "outputs": []
    },
    {
      "cell_type": "code",
      "source": [
        "%cd /content/drive/My Drive/Colab Notebooks"
      ],
      "metadata": {
        "colab": {
          "base_uri": "https://localhost:8080/"
        },
        "id": "5zjfCxZ4KAB7",
        "outputId": "744e71a3-e6d1-456b-f066-d57695829209"
      },
      "execution_count": null,
      "outputs": [
        {
          "output_type": "stream",
          "name": "stdout",
          "text": [
            "/content/drive/My Drive/Colab Notebooks\n"
          ]
        }
      ]
    },
    {
      "cell_type": "code",
      "source": [
        "from pyspark.sql import SparkSession\n",
        "from pyspark.sql.functions import *\n",
        "from pyspark.sql.types import *"
      ],
      "metadata": {
        "id": "vBihwd56KBAO"
      },
      "execution_count": null,
      "outputs": []
    },
    {
      "cell_type": "code",
      "source": [
        "spark = SparkSession.builder.appName(\"Sparkify\").getOrCreate()\n",
        "sc = spark._sc"
      ],
      "metadata": {
        "id": "Ka6-eV2bKMcs"
      },
      "execution_count": null,
      "outputs": []
    },
    {
      "cell_type": "code",
      "source": [
        "data_file_path = '/content/drive/MyDrive/School/Data Science/Magnimind/Mentorship Program/Big Data/data/'"
      ],
      "metadata": {
        "id": "WxMi3_jXKNJl"
      },
      "execution_count": null,
      "outputs": []
    },
    {
      "cell_type": "code",
      "source": [
        "churn_df = spark.read.csv(data_file_path+'churn-bigml-80.csv', header=True, inferSchema=True)"
      ],
      "metadata": {
        "id": "nTHCsa8hc2f9"
      },
      "execution_count": null,
      "outputs": []
    },
    {
      "cell_type": "code",
      "source": [
        "churn_df.show(5)"
      ],
      "metadata": {
        "colab": {
          "base_uri": "https://localhost:8080/"
        },
        "id": "pipQNq-Qc2cp",
        "outputId": "216f1fe1-be8e-4cf8-8d9f-faabbf04f931"
      },
      "execution_count": null,
      "outputs": [
        {
          "output_type": "stream",
          "name": "stdout",
          "text": [
            "+-----+--------------+---------+------------------+---------------+---------------------+-----------------+---------------+----------------+-----------------+---------------+----------------+-------------------+-----------------+------------------+------------------+----------------+-----------------+----------------------+-----+\n",
            "|State|Account length|Area code|International plan|Voice mail plan|Number vmail messages|Total day minutes|Total day calls|Total day charge|Total eve minutes|Total eve calls|Total eve charge|Total night minutes|Total night calls|Total night charge|Total intl minutes|Total intl calls|Total intl charge|Customer service calls|Churn|\n",
            "+-----+--------------+---------+------------------+---------------+---------------------+-----------------+---------------+----------------+-----------------+---------------+----------------+-------------------+-----------------+------------------+------------------+----------------+-----------------+----------------------+-----+\n",
            "|   KS|           128|      415|                No|            Yes|                   25|            265.1|            110|           45.07|            197.4|             99|           16.78|              244.7|               91|             11.01|              10.0|               3|              2.7|                     1|false|\n",
            "|   OH|           107|      415|                No|            Yes|                   26|            161.6|            123|           27.47|            195.5|            103|           16.62|              254.4|              103|             11.45|              13.7|               3|              3.7|                     1|false|\n",
            "|   NJ|           137|      415|                No|             No|                    0|            243.4|            114|           41.38|            121.2|            110|            10.3|              162.6|              104|              7.32|              12.2|               5|             3.29|                     0|false|\n",
            "|   OH|            84|      408|               Yes|             No|                    0|            299.4|             71|            50.9|             61.9|             88|            5.26|              196.9|               89|              8.86|               6.6|               7|             1.78|                     2|false|\n",
            "|   OK|            75|      415|               Yes|             No|                    0|            166.7|            113|           28.34|            148.3|            122|           12.61|              186.9|              121|              8.41|              10.1|               3|             2.73|                     3|false|\n",
            "+-----+--------------+---------+------------------+---------------+---------------------+-----------------+---------------+----------------+-----------------+---------------+----------------+-------------------+-----------------+------------------+------------------+----------------+-----------------+----------------------+-----+\n",
            "only showing top 5 rows\n",
            "\n"
          ]
        }
      ]
    },
    {
      "cell_type": "markdown",
      "source": [
        "Area codes don't seem to be correct (e.g. Kansas and 415 area code, etc.)"
      ],
      "metadata": {
        "id": "rKGVDnMi4UZw"
      }
    },
    {
      "cell_type": "code",
      "source": [
        "churn_df.printSchema()"
      ],
      "metadata": {
        "colab": {
          "base_uri": "https://localhost:8080/"
        },
        "id": "iJA66xkLc2ZP",
        "outputId": "a4e03cbc-c7e2-4f49-f36f-36ae28fcd6a0"
      },
      "execution_count": null,
      "outputs": [
        {
          "output_type": "stream",
          "name": "stdout",
          "text": [
            "root\n",
            " |-- State: string (nullable = true)\n",
            " |-- Account length: integer (nullable = true)\n",
            " |-- Area code: integer (nullable = true)\n",
            " |-- International plan: string (nullable = true)\n",
            " |-- Voice mail plan: string (nullable = true)\n",
            " |-- Number vmail messages: integer (nullable = true)\n",
            " |-- Total day minutes: double (nullable = true)\n",
            " |-- Total day calls: integer (nullable = true)\n",
            " |-- Total day charge: double (nullable = true)\n",
            " |-- Total eve minutes: double (nullable = true)\n",
            " |-- Total eve calls: integer (nullable = true)\n",
            " |-- Total eve charge: double (nullable = true)\n",
            " |-- Total night minutes: double (nullable = true)\n",
            " |-- Total night calls: integer (nullable = true)\n",
            " |-- Total night charge: double (nullable = true)\n",
            " |-- Total intl minutes: double (nullable = true)\n",
            " |-- Total intl calls: integer (nullable = true)\n",
            " |-- Total intl charge: double (nullable = true)\n",
            " |-- Customer service calls: integer (nullable = true)\n",
            " |-- Churn: boolean (nullable = true)\n",
            "\n"
          ]
        }
      ]
    },
    {
      "cell_type": "markdown",
      "source": [
        "https://www.datasciencemadesimple.com/typecast-integer-to-string-and-string-to-integer-in-pyspark/"
      ],
      "metadata": {
        "id": "pf3W9J_q2Mef"
      }
    },
    {
      "cell_type": "code",
      "source": [
        "churn_df = churn_df.withColumn(\"Area code\", churn_df[\"Area code\"].cast(StringType()))"
      ],
      "metadata": {
        "id": "73RC4ADrc2Q5"
      },
      "execution_count": null,
      "outputs": []
    },
    {
      "cell_type": "code",
      "source": [
        "churn_df.printSchema()"
      ],
      "metadata": {
        "colab": {
          "base_uri": "https://localhost:8080/"
        },
        "id": "Co92gZNOc2OI",
        "outputId": "6d3239b5-4fbb-4376-c61e-f049bfa8d00d"
      },
      "execution_count": null,
      "outputs": [
        {
          "output_type": "stream",
          "name": "stdout",
          "text": [
            "root\n",
            " |-- State: string (nullable = true)\n",
            " |-- Account length: integer (nullable = true)\n",
            " |-- Area code: string (nullable = true)\n",
            " |-- International plan: string (nullable = true)\n",
            " |-- Voice mail plan: string (nullable = true)\n",
            " |-- Number vmail messages: integer (nullable = true)\n",
            " |-- Total day minutes: double (nullable = true)\n",
            " |-- Total day calls: integer (nullable = true)\n",
            " |-- Total day charge: double (nullable = true)\n",
            " |-- Total eve minutes: double (nullable = true)\n",
            " |-- Total eve calls: integer (nullable = true)\n",
            " |-- Total eve charge: double (nullable = true)\n",
            " |-- Total night minutes: double (nullable = true)\n",
            " |-- Total night calls: integer (nullable = true)\n",
            " |-- Total night charge: double (nullable = true)\n",
            " |-- Total intl minutes: double (nullable = true)\n",
            " |-- Total intl calls: integer (nullable = true)\n",
            " |-- Total intl charge: double (nullable = true)\n",
            " |-- Customer service calls: integer (nullable = true)\n",
            " |-- Churn: boolean (nullable = true)\n",
            "\n"
          ]
        }
      ]
    },
    {
      "cell_type": "code",
      "source": [
        "churn_df.createOrReplaceTempView(\"churn_tbl\")"
      ],
      "metadata": {
        "id": "OzJtT4s-c2HT"
      },
      "execution_count": null,
      "outputs": []
    },
    {
      "cell_type": "code",
      "source": [
        "result = spark.sql(\"\"\"\n",
        "SELECT State,  \n",
        "ROUND(AVG(if(churn = 'true', 1, 0)), 3) as churn_rate\n",
        "FROM churn_tbl\n",
        "GROUP BY 1\n",
        "ORDER BY churn_rate DESC\n",
        "\"\"\")"
      ],
      "metadata": {
        "id": "dUq-NGrLc2EA"
      },
      "execution_count": null,
      "outputs": []
    },
    {
      "cell_type": "code",
      "source": [
        "result.show(60)"
      ],
      "metadata": {
        "colab": {
          "base_uri": "https://localhost:8080/"
        },
        "id": "S9u5BiYp3J4p",
        "outputId": "4f93bf8e-ae4e-4c0a-d0d6-65e9c5f4410a"
      },
      "execution_count": null,
      "outputs": [
        {
          "output_type": "stream",
          "name": "stdout",
          "text": [
            "+-----+----------+\n",
            "|State|churn_rate|\n",
            "+-----+----------+\n",
            "|   TX|     0.291|\n",
            "|   NJ|      0.28|\n",
            "|   AR|     0.234|\n",
            "|   MD|     0.233|\n",
            "|   MS|     0.229|\n",
            "|   MI|     0.224|\n",
            "|   ME|     0.224|\n",
            "|   SC|     0.224|\n",
            "|   PA|     0.222|\n",
            "|   NV|     0.213|\n",
            "|   NH|     0.209|\n",
            "|   CA|     0.208|\n",
            "|   WA|     0.208|\n",
            "|   KS|     0.192|\n",
            "|   MT|     0.189|\n",
            "|   MN|     0.186|\n",
            "|   CT|     0.186|\n",
            "|   NY|     0.176|\n",
            "|   GA|     0.163|\n",
            "|   NC|     0.161|\n",
            "|   DE|     0.157|\n",
            "|   MA|     0.154|\n",
            "|   OH|     0.152|\n",
            "|   KY|      0.14|\n",
            "|   OK|     0.135|\n",
            "|   UT|     0.133|\n",
            "|   FL|      0.13|\n",
            "|   TN|     0.122|\n",
            "|   SD|     0.122|\n",
            "|   WY|     0.121|\n",
            "|   CO|     0.119|\n",
            "|   OR|     0.113|\n",
            "|   IN|     0.111|\n",
            "|   DC|     0.111|\n",
            "|   AL|     0.106|\n",
            "|   VT|     0.105|\n",
            "|   MO|     0.098|\n",
            "|   ND|     0.091|\n",
            "|   NM|     0.091|\n",
            "|   IL|     0.089|\n",
            "|   NE|     0.089|\n",
            "|   ID|     0.089|\n",
            "|   LA|     0.086|\n",
            "|   WV|      0.08|\n",
            "|   IA|     0.079|\n",
            "|   AK|      0.07|\n",
            "|   AZ|     0.067|\n",
            "|   WI|     0.066|\n",
            "|   RI|     0.063|\n",
            "|   VA|      0.06|\n",
            "|   HI|     0.045|\n",
            "+-----+----------+\n",
            "\n"
          ]
        }
      ]
    },
    {
      "cell_type": "markdown",
      "source": [
        "https://stackoverflow.com/questions/33053095/how-to-express-a-column-which-name-contains-spaces-in-spark-sql"
      ],
      "metadata": {
        "id": "U-RemPXF30Nk"
      }
    },
    {
      "cell_type": "code",
      "source": [
        "result_area_code = spark.sql(\"\"\"\n",
        "SELECT `Area code`,  \n",
        "ROUND(AVG(if(LTRIM(churn) = 'true', 1, 0)), 2) as churn_rate\n",
        "FROM churn_tbl\n",
        "GROUP BY 1\n",
        "ORDER BY churn_rate DESC\n",
        "\"\"\")"
      ],
      "metadata": {
        "id": "WkD11J_r3K6o"
      },
      "execution_count": null,
      "outputs": []
    },
    {
      "cell_type": "code",
      "source": [
        "result_area_code.show()"
      ],
      "metadata": {
        "colab": {
          "base_uri": "https://localhost:8080/"
        },
        "id": "p9hFHHSj3U8i",
        "outputId": "b30a4231-b025-4414-ed92-ad65d1e5e8ac"
      },
      "execution_count": null,
      "outputs": [
        {
          "output_type": "stream",
          "name": "stdout",
          "text": [
            "+---------+----------+\n",
            "|Area code|churn_rate|\n",
            "+---------+----------+\n",
            "|      510|      0.15|\n",
            "|      415|      0.15|\n",
            "|      408|      0.14|\n",
            "+---------+----------+\n",
            "\n"
          ]
        }
      ]
    },
    {
      "cell_type": "markdown",
      "source": [
        "Not sure what to make of these area codes. There are only 3, and they're from the San Francisco Bay Area."
      ],
      "metadata": {
        "id": "cfKW1-MH3qZf"
      }
    },
    {
      "cell_type": "code",
      "source": [
        "churn_df.select(\"Area code\").distinct().show()"
      ],
      "metadata": {
        "colab": {
          "base_uri": "https://localhost:8080/"
        },
        "id": "bnq_RiuZ3nR5",
        "outputId": "aee6a5d8-72ab-462c-bcfc-aec170f10d0b"
      },
      "execution_count": null,
      "outputs": [
        {
          "output_type": "stream",
          "name": "stdout",
          "text": [
            "+---------+\n",
            "|Area code|\n",
            "+---------+\n",
            "|      415|\n",
            "|      408|\n",
            "|      510|\n",
            "+---------+\n",
            "\n"
          ]
        }
      ]
    },
    {
      "cell_type": "code",
      "source": [
        "churn_df.toPandas().groupby(\"State\")['Churn'].mean().sort_values(ascending=False)"
      ],
      "metadata": {
        "colab": {
          "base_uri": "https://localhost:8080/"
        },
        "id": "7BG0_lh24M-4",
        "outputId": "fd5c3def-921c-4603-a966-e62fb617ccc0"
      },
      "execution_count": null,
      "outputs": [
        {
          "output_type": "execute_result",
          "data": {
            "text/plain": [
              "State\n",
              "TX    0.290909\n",
              "NJ    0.280000\n",
              "AR    0.234043\n",
              "MD    0.233333\n",
              "MS    0.229167\n",
              "SC    0.224490\n",
              "ME    0.224490\n",
              "MI    0.224138\n",
              "PA    0.222222\n",
              "NV    0.213115\n",
              "NH    0.209302\n",
              "WA    0.208333\n",
              "CA    0.208333\n",
              "KS    0.192308\n",
              "MT    0.188679\n",
              "CT    0.186441\n",
              "MN    0.185714\n",
              "NY    0.176471\n",
              "GA    0.163265\n",
              "NC    0.160714\n",
              "DE    0.156863\n",
              "MA    0.153846\n",
              "OH    0.151515\n",
              "KY    0.139535\n",
              "OK    0.134615\n",
              "UT    0.133333\n",
              "FL    0.129630\n",
              "SD    0.122449\n",
              "TN    0.121951\n",
              "WY    0.121212\n",
              "CO    0.118644\n",
              "OR    0.112903\n",
              "IN    0.111111\n",
              "DC    0.111111\n",
              "AL    0.106061\n",
              "VT    0.105263\n",
              "MO    0.098039\n",
              "ND    0.090909\n",
              "NM    0.090909\n",
              "ID    0.089286\n",
              "NE    0.088889\n",
              "IL    0.088889\n",
              "LA    0.085714\n",
              "WV    0.079545\n",
              "IA    0.078947\n",
              "AK    0.069767\n",
              "AZ    0.066667\n",
              "WI    0.065574\n",
              "RI    0.062500\n",
              "VA    0.059701\n",
              "HI    0.045455\n",
              "Name: Churn, dtype: float64"
            ]
          },
          "metadata": {},
          "execution_count": 20
        }
      ]
    },
    {
      "cell_type": "code",
      "source": [
        "churn_df = churn_df.withColumn('Churn_int', churn_df['Churn'].cast('integer'))"
      ],
      "metadata": {
        "id": "qIMo6qYwgj5X"
      },
      "execution_count": null,
      "outputs": []
    },
    {
      "cell_type": "code",
      "source": [
        "churn_df.show(5)"
      ],
      "metadata": {
        "colab": {
          "base_uri": "https://localhost:8080/"
        },
        "id": "hd3NsMxlhVBD",
        "outputId": "f0d48884-56a7-4519-f679-eedf72e665e5"
      },
      "execution_count": null,
      "outputs": [
        {
          "output_type": "stream",
          "name": "stdout",
          "text": [
            "+-----+--------------+---------+------------------+---------------+---------------------+-----------------+---------------+----------------+-----------------+---------------+----------------+-------------------+-----------------+------------------+------------------+----------------+-----------------+----------------------+-----+---------+\n",
            "|State|Account length|Area code|International plan|Voice mail plan|Number vmail messages|Total day minutes|Total day calls|Total day charge|Total eve minutes|Total eve calls|Total eve charge|Total night minutes|Total night calls|Total night charge|Total intl minutes|Total intl calls|Total intl charge|Customer service calls|Churn|Churn_int|\n",
            "+-----+--------------+---------+------------------+---------------+---------------------+-----------------+---------------+----------------+-----------------+---------------+----------------+-------------------+-----------------+------------------+------------------+----------------+-----------------+----------------------+-----+---------+\n",
            "|   KS|           128|      415|                No|            Yes|                   25|            265.1|            110|           45.07|            197.4|             99|           16.78|              244.7|               91|             11.01|              10.0|               3|              2.7|                     1|false|        0|\n",
            "|   OH|           107|      415|                No|            Yes|                   26|            161.6|            123|           27.47|            195.5|            103|           16.62|              254.4|              103|             11.45|              13.7|               3|              3.7|                     1|false|        0|\n",
            "|   NJ|           137|      415|                No|             No|                    0|            243.4|            114|           41.38|            121.2|            110|            10.3|              162.6|              104|              7.32|              12.2|               5|             3.29|                     0|false|        0|\n",
            "|   OH|            84|      408|               Yes|             No|                    0|            299.4|             71|            50.9|             61.9|             88|            5.26|              196.9|               89|              8.86|               6.6|               7|             1.78|                     2|false|        0|\n",
            "|   OK|            75|      415|               Yes|             No|                    0|            166.7|            113|           28.34|            148.3|            122|           12.61|              186.9|              121|              8.41|              10.1|               3|             2.73|                     3|false|        0|\n",
            "+-----+--------------+---------+------------------+---------------+---------------------+-----------------+---------------+----------------+-----------------+---------------+----------------+-------------------+-----------------+------------------+------------------+----------------+-----------------+----------------------+-----+---------+\n",
            "only showing top 5 rows\n",
            "\n"
          ]
        }
      ]
    },
    {
      "cell_type": "code",
      "source": [
        "churn_pd = churn_df.toPandas()"
      ],
      "metadata": {
        "id": "_EBLZ-J2-ByK"
      },
      "execution_count": null,
      "outputs": []
    },
    {
      "cell_type": "code",
      "source": [
        "import numpy as np\n",
        "import pandas as pd\n",
        "import matplotlib.pyplot as plt\n",
        "import seaborn as sns"
      ],
      "metadata": {
        "id": "9VZKNozF_CcQ"
      },
      "execution_count": null,
      "outputs": []
    },
    {
      "cell_type": "code",
      "source": [
        "sns.heatmap(churn_pd.corr())"
      ],
      "metadata": {
        "colab": {
          "base_uri": "https://localhost:8080/",
          "height": 401
        },
        "id": "WUl0yNYqAAeM",
        "outputId": "2e15fd4e-e0ac-4a39-ca3d-c0d09375cdcb"
      },
      "execution_count": null,
      "outputs": [
        {
          "output_type": "execute_result",
          "data": {
            "text/plain": [
              "<matplotlib.axes._subplots.AxesSubplot at 0x7f7efcf4cdd0>"
            ]
          },
          "metadata": {},
          "execution_count": 25
        },
        {
          "output_type": "display_data",
          "data": {
            "text/plain": [
              "<Figure size 432x288 with 2 Axes>"
            ],
            "image/png": "[encoded data removed]"
          },
          "metadata": {
            "needs_background": "light"
          }
        }
      ]
    },
    {
      "cell_type": "markdown",
      "source": [
        "Looks like we don't need both minutes and charges as they are exactly correlated as one might expect."
      ],
      "metadata": {
        "id": "dupyIc6Gi2oa"
      }
    },
    {
      "cell_type": "code",
      "source": [
        "churn_pd.select_dtypes(exclude = 'O').columns"
      ],
      "metadata": {
        "colab": {
          "base_uri": "https://localhost:8080/"
        },
        "id": "dsoPmtpuAcZ1",
        "outputId": "f7ebe66b-f4fa-4b7f-f821-19995735d2ec"
      },
      "execution_count": null,
      "outputs": [
        {
          "output_type": "execute_result",
          "data": {
            "text/plain": [
              "Index(['Account length', 'Number vmail messages', 'Total day minutes',\n",
              "       'Total day calls', 'Total day charge', 'Total eve minutes',\n",
              "       'Total eve calls', 'Total eve charge', 'Total night minutes',\n",
              "       'Total night calls', 'Total night charge', 'Total intl minutes',\n",
              "       'Total intl calls', 'Total intl charge', 'Customer service calls',\n",
              "       'Churn', 'Churn_int'],\n",
              "      dtype='object')"
            ]
          },
          "metadata": {},
          "execution_count": 26
        }
      ]
    },
    {
      "cell_type": "code",
      "source": [
        "# Also remove 'Churn' as that's our target\n",
        "numeric_cols = ['Account length', 'Number vmail messages', 'Total day minutes',\n",
        "       'Total day calls', 'Total eve minutes',\n",
        "       'Total eve calls', 'Total night minutes',\n",
        "       'Total night calls', 'Total intl minutes',\n",
        "       'Total intl calls', 'Customer service calls']"
      ],
      "metadata": {
        "id": "YvTvWiPuAjGK"
      },
      "execution_count": null,
      "outputs": []
    },
    {
      "cell_type": "code",
      "source": [
        "churn_pd_numeric = churn_pd[numeric_cols]"
      ],
      "metadata": {
        "id": "4Ucgs2QcBO7D"
      },
      "execution_count": null,
      "outputs": []
    },
    {
      "cell_type": "code",
      "source": [
        "churn_pd_numeric.head()"
      ],
      "metadata": {
        "colab": {
          "base_uri": "https://localhost:8080/",
          "height": 268
        },
        "id": "fzJgtNrRBg7B",
        "outputId": "dbd77470-819e-4295-b627-ec695f8343f1"
      },
      "execution_count": null,
      "outputs": [
        {
          "output_type": "execute_result",
          "data": {
            "text/plain": [
              "   Account length  Number vmail messages  Total day minutes  Total day calls  \\\n",
              "0             128                     25              265.1              110   \n",
              "1             107                     26              161.6              123   \n",
              "2             137                      0              243.4              114   \n",
              "3              84                      0              299.4               71   \n",
              "4              75                      0              166.7              113   \n",
              "\n",
              "   Total eve minutes  Total eve calls  Total night minutes  Total night calls  \\\n",
              "0              197.4               99                244.7                 91   \n",
              "1              195.5              103                254.4                103   \n",
              "2              121.2              110                162.6                104   \n",
              "3               61.9               88                196.9                 89   \n",
              "4              148.3              122                186.9                121   \n",
              "\n",
              "   Total intl minutes  Total intl calls  Customer service calls  \n",
              "0                10.0                 3                       1  \n",
              "1                13.7                 3                       1  \n",
              "2                12.2                 5                       0  \n",
              "3                 6.6                 7                       2  \n",
              "4                10.1                 3                       3  "
            ],
            "text/html": [
              "\n",
              "  <div id=\"df-e4671feb-9b3b-4f06-a4bd-743603f609a5\">\n",
              "    <div class=\"colab-df-container\">\n",
              "      <div>\n",
              "<style scoped>\n",
              "    .dataframe tbody tr th:only-of-type {\n",
              "        vertical-align: middle;\n",
              "    }\n",
              "\n",
              "    .dataframe tbody tr th {\n",
              "        vertical-align: top;\n",
              "    }\n",
              "\n",
              "    .dataframe thead th {\n",
              "        text-align: right;\n",
              "    }\n",
              "</style>\n",
              "<table border=\"1\" class=\"dataframe\">\n",
              "  <thead>\n",
              "    <tr style=\"text-align: right;\">\n",
              "      <th></th>\n",
              "      <th>Account length</th>\n",
              "      <th>Number vmail messages</th>\n",
              "      <th>Total day minutes</th>\n",
              "      <th>Total day calls</th>\n",
              "      <th>Total eve minutes</th>\n",
              "      <th>Total eve calls</th>\n",
              "      <th>Total night minutes</th>\n",
              "      <th>Total night calls</th>\n",
              "      <th>Total intl minutes</th>\n",
              "      <th>Total intl calls</th>\n",
              "      <th>Customer service calls</th>\n",
              "    </tr>\n",
              "  </thead>\n",
              "  <tbody>\n",
              "    <tr>\n",
              "      <th>0</th>\n",
              "      <td>128</td>\n",
              "      <td>25</td>\n",
              "      <td>265.1</td>\n",
              "      <td>110</td>\n",
              "      <td>197.4</td>\n",
              "      <td>99</td>\n",
              "      <td>244.7</td>\n",
              "      <td>91</td>\n",
              "      <td>10.0</td>\n",
              "      <td>3</td>\n",
              "      <td>1</td>\n",
              "    </tr>\n",
              "    <tr>\n",
              "      <th>1</th>\n",
              "      <td>107</td>\n",
              "      <td>26</td>\n",
              "      <td>161.6</td>\n",
              "      <td>123</td>\n",
              "      <td>195.5</td>\n",
              "      <td>103</td>\n",
              "      <td>254.4</td>\n",
              "      <td>103</td>\n",
              "      <td>13.7</td>\n",
              "      <td>3</td>\n",
              "      <td>1</td>\n",
              "    </tr>\n",
              "    <tr>\n",
              "      <th>2</th>\n",
              "      <td>137</td>\n",
              "      <td>0</td>\n",
              "      <td>243.4</td>\n",
              "      <td>114</td>\n",
              "      <td>121.2</td>\n",
              "      <td>110</td>\n",
              "      <td>162.6</td>\n",
              "      <td>104</td>\n",
              "      <td>12.2</td>\n",
              "      <td>5</td>\n",
              "      <td>0</td>\n",
              "    </tr>\n",
              "    <tr>\n",
              "      <th>3</th>\n",
              "      <td>84</td>\n",
              "      <td>0</td>\n",
              "      <td>299.4</td>\n",
              "      <td>71</td>\n",
              "      <td>61.9</td>\n",
              "      <td>88</td>\n",
              "      <td>196.9</td>\n",
              "      <td>89</td>\n",
              "      <td>6.6</td>\n",
              "      <td>7</td>\n",
              "      <td>2</td>\n",
              "    </tr>\n",
              "    <tr>\n",
              "      <th>4</th>\n",
              "      <td>75</td>\n",
              "      <td>0</td>\n",
              "      <td>166.7</td>\n",
              "      <td>113</td>\n",
              "      <td>148.3</td>\n",
              "      <td>122</td>\n",
              "      <td>186.9</td>\n",
              "      <td>121</td>\n",
              "      <td>10.1</td>\n",
              "      <td>3</td>\n",
              "      <td>3</td>\n",
              "    </tr>\n",
              "  </tbody>\n",
              "</table>\n",
              "</div>\n",
              "      <button class=\"colab-df-convert\" onclick=\"convertToInteractive('df-e4671feb-9b3b-4f06-a4bd-743603f609a5')\"\n",
              "              title=\"Convert this dataframe to an interactive table.\"\n",
              "              style=\"display:none;\">\n",
              "        \n",
              "  <svg xmlns=\"http://www.w3.org/2000/svg\" height=\"24px\"viewBox=\"0 0 24 24\"\n",
              "       width=\"24px\">\n",
              "    <path d=\"M0 0h24v24H0V0z\" fill=\"none\"/>\n",
              "    <path d=\"M18.56 5.44l.94 2.06.94-2.06 2.06-.94-2.06-.94-.94-2.06-.94 2.06-2.06.94zm-11 1L8.5 8.5l.94-2.06 2.06-.94-2.06-.94L8.5 2.5l-.94 2.06-2.06.94zm10 10l.94 2.06.94-2.06 2.06-.94-2.06-.94-.94-2.06-.94 2.06-2.06.94z\"/><path d=\"M17.41 7.96l-1.37-1.37c-.4-.4-.92-.59-1.43-.59-.52 0-1.04.2-1.43.59L10.3 9.45l-7.72 7.72c-.78.78-.78 2.05 0 2.83L4 21.41c.39.39.9.59 1.41.59.51 0 1.02-.2 1.41-.59l7.78-7.78 2.81-2.81c.8-.78.8-2.07 0-2.86zM5.41 20L4 18.59l7.72-7.72 1.47 1.35L5.41 20z\"/>\n",
              "  </svg>\n",
              "      </button>\n",
              "      \n",
              "  <style>\n",
              "    .colab-df-container {\n",
              "      display:flex;\n",
              "      flex-wrap:wrap;\n",
              "      gap: 12px;\n",
              "    }\n",
              "\n",
              "    .colab-df-convert {\n",
              "      background-color: #E8F0FE;\n",
              "      border: none;\n",
              "      border-radius: 50%;\n",
              "      cursor: pointer;\n",
              "      display: none;\n",
              "      fill: #1967D2;\n",
              "      height: 32px;\n",
              "      padding: 0 0 0 0;\n",
              "      width: 32px;\n",
              "    }\n",
              "\n",
              "    .colab-df-convert:hover {\n",
              "      background-color: #E2EBFA;\n",
              "      box-shadow: 0px 1px 2px rgba(60, 64, 67, 0.3), 0px 1px 3px 1px rgba(60, 64, 67, 0.15);\n",
              "      fill: #174EA6;\n",
              "    }\n",
              "\n",
              "    [theme=dark] .colab-df-convert {\n",
              "      background-color: #3B4455;\n",
              "      fill: #D2E3FC;\n",
              "    }\n",
              "\n",
              "    [theme=dark] .colab-df-convert:hover {\n",
              "      background-color: #434B5C;\n",
              "      box-shadow: 0px 1px 3px 1px rgba(0, 0, 0, 0.15);\n",
              "      filter: drop-shadow(0px 1px 2px rgba(0, 0, 0, 0.3));\n",
              "      fill: #FFFFFF;\n",
              "    }\n",
              "  </style>\n",
              "\n",
              "      <script>\n",
              "        const buttonEl =\n",
              "          document.querySelector('#df-e4671feb-9b3b-4f06-a4bd-743603f609a5 button.colab-df-convert');\n",
              "        buttonEl.style.display =\n",
              "          google.colab.kernel.accessAllowed ? 'block' : 'none';\n",
              "\n",
              "        async function convertToInteractive(key) {\n",
              "          const element = document.querySelector('#df-e4671feb-9b3b-4f06-a4bd-743603f609a5');\n",
              "          const dataTable =\n",
              "            await google.colab.kernel.invokeFunction('convertToInteractive',\n",
              "                                                     [key], {});\n",
              "          if (!dataTable) return;\n",
              "\n",
              "          const docLinkHtml = 'Like what you see? Visit the ' +\n",
              "            '<a target=\"_blank\" href=https://colab.research.google.com/notebooks/data_table.ipynb>data table notebook</a>'\n",
              "            + ' to learn more about interactive tables.';\n",
              "          element.innerHTML = '';\n",
              "          dataTable['output_type'] = 'display_data';\n",
              "          await google.colab.output.renderOutput(dataTable, element);\n",
              "          const docLink = document.createElement('div');\n",
              "          docLink.innerHTML = docLinkHtml;\n",
              "          element.appendChild(docLink);\n",
              "        }\n",
              "      </script>\n",
              "    </div>\n",
              "  </div>\n",
              "  "
            ]
          },
          "metadata": {},
          "execution_count": 29
        }
      ]
    },
    {
      "cell_type": "code",
      "source": [
        ""
      ],
      "metadata": {
        "id": "TGA6W_frh-vI"
      },
      "execution_count": null,
      "outputs": []
    },
    {
      "cell_type": "code",
      "source": [
        "churn_pd.select_dtypes(include = 'O').columns"
      ],
      "metadata": {
        "colab": {
          "base_uri": "https://localhost:8080/"
        },
        "id": "CslqZVo6k31e",
        "outputId": "db2e6220-b216-4ff2-a58b-558c1ed56baa"
      },
      "execution_count": null,
      "outputs": [
        {
          "output_type": "execute_result",
          "data": {
            "text/plain": [
              "Index(['State', 'Area code', 'International plan', 'Voice mail plan'], dtype='object')"
            ]
          },
          "metadata": {},
          "execution_count": 30
        }
      ]
    },
    {
      "cell_type": "markdown",
      "source": [
        "I don't think area code makes sense to keep as it's not clear (to me) how it's assigned given that those area codes don't match the actual areas."
      ],
      "metadata": {
        "id": "dnatJZNEk95e"
      }
    },
    {
      "cell_type": "code",
      "source": [
        "categorical_cols = ['State', 'International plan', 'Voice mail plan']"
      ],
      "metadata": {
        "id": "hnTD18Qtk3xl"
      },
      "execution_count": null,
      "outputs": []
    },
    {
      "cell_type": "code",
      "source": [
        "churn_df.select(col('Churn_int')).show()"
      ],
      "metadata": {
        "colab": {
          "base_uri": "https://localhost:8080/"
        },
        "id": "tbkEpwCLk3n7",
        "outputId": "a5ca2023-8e9e-40f6-9189-879ea9c9409b"
      },
      "execution_count": null,
      "outputs": [
        {
          "output_type": "stream",
          "name": "stdout",
          "text": [
            "+---------+\n",
            "|Churn_int|\n",
            "+---------+\n",
            "|        0|\n",
            "|        0|\n",
            "|        0|\n",
            "|        0|\n",
            "|        0|\n",
            "|        0|\n",
            "|        0|\n",
            "|        0|\n",
            "|        0|\n",
            "|        0|\n",
            "|        0|\n",
            "|        0|\n",
            "|        0|\n",
            "|        0|\n",
            "|        0|\n",
            "|        0|\n",
            "|        0|\n",
            "|        0|\n",
            "|        1|\n",
            "|        0|\n",
            "+---------+\n",
            "only showing top 20 rows\n",
            "\n"
          ]
        }
      ]
    },
    {
      "cell_type": "code",
      "source": [
        ""
      ],
      "metadata": {
        "id": "a-J7RiPJmAhd"
      },
      "execution_count": null,
      "outputs": []
    },
    {
      "cell_type": "markdown",
      "source": [
        "Role of StringIndexer and Pipelines in PySpark ML Feature\n",
        "\n",
        "https://medium.com/@nutanbhogendrasharma/role-of-stringindexer-and-pipelines-in-pyspark-ml-feature-b79085bb8a6c"
      ],
      "metadata": {
        "id": "bx1HcOmvmAsn"
      }
    },
    {
      "cell_type": "markdown",
      "source": [
        "When to use StringIndexer vs StringIndexer+OneHotEncoder?\n",
        "\n",
        "https://stackoverflow.com/questions/67993139/when-to-use-stringindexer-vs-stringindexeronehotencoder"
      ],
      "metadata": {
        "id": "qz161SfLmAsq"
      }
    },
    {
      "cell_type": "code",
      "source": [
        "from pyspark.ml import Pipeline\n",
        "from pyspark.ml.feature import OneHotEncoder, StringIndexer, VectorAssembler"
      ],
      "metadata": {
        "id": "wmY8LqKVh-oT"
      },
      "execution_count": null,
      "outputs": []
    },
    {
      "cell_type": "code",
      "source": [
        ""
      ],
      "metadata": {
        "id": "olwHXwBmiTCx"
      },
      "execution_count": null,
      "outputs": []
    },
    {
      "cell_type": "code",
      "source": [
        "stages = []\n",
        "for categorical_col in categorical_cols:\n",
        "  string_idx = StringIndexer(inputCol=categorical_col, outputCol=categorical_col+ 'Index')\n",
        "  encoder = OneHotEncoder(inputCols=[string_idx.getOutputCol()], outputCols= [categorical_col + \"ClassVec\"])\n",
        "  stages +=[string_idx, encoder]"
      ],
      "metadata": {
        "id": "qGmM6iZXK_60"
      },
      "execution_count": null,
      "outputs": []
    },
    {
      "cell_type": "code",
      "source": [
        "stages"
      ],
      "metadata": {
        "colab": {
          "base_uri": "https://localhost:8080/"
        },
        "id": "95dvNAm5Oj9t",
        "outputId": "728a565b-c491-4c07-ee84-a2328f41a1a5"
      },
      "execution_count": null,
      "outputs": [
        {
          "output_type": "execute_result",
          "data": {
            "text/plain": [
              "[StringIndexer_d8eb3e75d422,\n",
              " OneHotEncoder_54e7a6d462f4,\n",
              " StringIndexer_48947de02322,\n",
              " OneHotEncoder_13ae5cf75461,\n",
              " StringIndexer_325af6db2333,\n",
              " OneHotEncoder_2dc6581ee87a]"
            ]
          },
          "metadata": {},
          "execution_count": 35
        }
      ]
    },
    {
      "cell_type": "code",
      "source": [
        "# Below doesn't work because 'Churn' is boolean\n",
        "# However, 'Churn' shows up in 'numeric' col\n",
        "label_stringIdx = StringIndexer(inputCol='Churn', outputCol='label')\n",
        "# stages += [label_stringIdx]"
      ],
      "metadata": {
        "id": "BZqGA_pYK_3a"
      },
      "execution_count": null,
      "outputs": []
    },
    {
      "cell_type": "code",
      "source": [
        "df2 = label_stringIdx.fit(churn_df).transform(churn_df)\n",
        "df2.show()"
      ],
      "metadata": {
        "colab": {
          "base_uri": "https://localhost:8080/",
          "height": 336
        },
        "id": "DEhhxfIBQ_xS",
        "outputId": "932ecf5c-831e-4df6-a847-151b967e8bcc"
      },
      "execution_count": null,
      "outputs": [
        {
          "output_type": "error",
          "ename": "IllegalArgumentException",
          "evalue": "ignored",
          "traceback": [
            "\u001b[0;31m---------------------------------------------------------------------------\u001b[0m",
            "\u001b[0;31mIllegalArgumentException\u001b[0m                  Traceback (most recent call last)",
            "\u001b[0;32m<ipython-input-37-65c3153ef70f>\u001b[0m in \u001b[0;36m<module>\u001b[0;34m()\u001b[0m\n\u001b[0;32m----> 1\u001b[0;31m \u001b[0mdf2\u001b[0m \u001b[0;34m=\u001b[0m \u001b[0mlabel_stringIdx\u001b[0m\u001b[0;34m.\u001b[0m\u001b[0mfit\u001b[0m\u001b[0;34m(\u001b[0m\u001b[0mchurn_df\u001b[0m\u001b[0;34m)\u001b[0m\u001b[0;34m.\u001b[0m\u001b[0mtransform\u001b[0m\u001b[0;34m(\u001b[0m\u001b[0mchurn_df\u001b[0m\u001b[0;34m)\u001b[0m\u001b[0;34m\u001b[0m\u001b[0;34m\u001b[0m\u001b[0m\n\u001b[0m\u001b[1;32m      2\u001b[0m \u001b[0mdf2\u001b[0m\u001b[0;34m.\u001b[0m\u001b[0mshow\u001b[0m\u001b[0;34m(\u001b[0m\u001b[0;34m)\u001b[0m\u001b[0;34m\u001b[0m\u001b[0;34m\u001b[0m\u001b[0m\n",
            "\u001b[0;32m/content/drive/My Drive/Colab Notebooks/pyspark/ml/base.py\u001b[0m in \u001b[0;36mfit\u001b[0;34m(self, dataset, params)\u001b[0m\n\u001b[1;32m    159\u001b[0m                 \u001b[0;32mreturn\u001b[0m \u001b[0mself\u001b[0m\u001b[0;34m.\u001b[0m\u001b[0mcopy\u001b[0m\u001b[0;34m(\u001b[0m\u001b[0mparams\u001b[0m\u001b[0;34m)\u001b[0m\u001b[0;34m.\u001b[0m\u001b[0m_fit\u001b[0m\u001b[0;34m(\u001b[0m\u001b[0mdataset\u001b[0m\u001b[0;34m)\u001b[0m\u001b[0;34m\u001b[0m\u001b[0;34m\u001b[0m\u001b[0m\n\u001b[1;32m    160\u001b[0m             \u001b[0;32melse\u001b[0m\u001b[0;34m:\u001b[0m\u001b[0;34m\u001b[0m\u001b[0;34m\u001b[0m\u001b[0m\n\u001b[0;32m--> 161\u001b[0;31m                 \u001b[0;32mreturn\u001b[0m \u001b[0mself\u001b[0m\u001b[0;34m.\u001b[0m\u001b[0m_fit\u001b[0m\u001b[0;34m(\u001b[0m\u001b[0mdataset\u001b[0m\u001b[0;34m)\u001b[0m\u001b[0;34m\u001b[0m\u001b[0;34m\u001b[0m\u001b[0m\n\u001b[0m\u001b[1;32m    162\u001b[0m         \u001b[0;32melse\u001b[0m\u001b[0;34m:\u001b[0m\u001b[0;34m\u001b[0m\u001b[0;34m\u001b[0m\u001b[0m\n\u001b[1;32m    163\u001b[0m             raise TypeError(\"Params must be either a param map or a list/tuple of param maps, \"\n",
            "\u001b[0;32m/content/drive/My Drive/Colab Notebooks/pyspark/ml/wrapper.py\u001b[0m in \u001b[0;36m_fit\u001b[0;34m(self, dataset)\u001b[0m\n\u001b[1;32m    333\u001b[0m \u001b[0;34m\u001b[0m\u001b[0m\n\u001b[1;32m    334\u001b[0m     \u001b[0;32mdef\u001b[0m \u001b[0m_fit\u001b[0m\u001b[0;34m(\u001b[0m\u001b[0mself\u001b[0m\u001b[0;34m,\u001b[0m \u001b[0mdataset\u001b[0m\u001b[0;34m)\u001b[0m\u001b[0;34m:\u001b[0m\u001b[0;34m\u001b[0m\u001b[0;34m\u001b[0m\u001b[0m\n\u001b[0;32m--> 335\u001b[0;31m         \u001b[0mjava_model\u001b[0m \u001b[0;34m=\u001b[0m \u001b[0mself\u001b[0m\u001b[0;34m.\u001b[0m\u001b[0m_fit_java\u001b[0m\u001b[0;34m(\u001b[0m\u001b[0mdataset\u001b[0m\u001b[0;34m)\u001b[0m\u001b[0;34m\u001b[0m\u001b[0;34m\u001b[0m\u001b[0m\n\u001b[0m\u001b[1;32m    336\u001b[0m         \u001b[0mmodel\u001b[0m \u001b[0;34m=\u001b[0m \u001b[0mself\u001b[0m\u001b[0;34m.\u001b[0m\u001b[0m_create_model\u001b[0m\u001b[0;34m(\u001b[0m\u001b[0mjava_model\u001b[0m\u001b[0;34m)\u001b[0m\u001b[0;34m\u001b[0m\u001b[0;34m\u001b[0m\u001b[0m\n\u001b[1;32m    337\u001b[0m         \u001b[0;32mreturn\u001b[0m \u001b[0mself\u001b[0m\u001b[0;34m.\u001b[0m\u001b[0m_copyValues\u001b[0m\u001b[0;34m(\u001b[0m\u001b[0mmodel\u001b[0m\u001b[0;34m)\u001b[0m\u001b[0;34m\u001b[0m\u001b[0;34m\u001b[0m\u001b[0m\n",
            "\u001b[0;32m/content/drive/My Drive/Colab Notebooks/pyspark/ml/wrapper.py\u001b[0m in \u001b[0;36m_fit_java\u001b[0;34m(self, dataset)\u001b[0m\n\u001b[1;32m    330\u001b[0m         \"\"\"\n\u001b[1;32m    331\u001b[0m         \u001b[0mself\u001b[0m\u001b[0;34m.\u001b[0m\u001b[0m_transfer_params_to_java\u001b[0m\u001b[0;34m(\u001b[0m\u001b[0;34m)\u001b[0m\u001b[0;34m\u001b[0m\u001b[0;34m\u001b[0m\u001b[0m\n\u001b[0;32m--> 332\u001b[0;31m         \u001b[0;32mreturn\u001b[0m \u001b[0mself\u001b[0m\u001b[0;34m.\u001b[0m\u001b[0m_java_obj\u001b[0m\u001b[0;34m.\u001b[0m\u001b[0mfit\u001b[0m\u001b[0;34m(\u001b[0m\u001b[0mdataset\u001b[0m\u001b[0;34m.\u001b[0m\u001b[0m_jdf\u001b[0m\u001b[0;34m)\u001b[0m\u001b[0;34m\u001b[0m\u001b[0;34m\u001b[0m\u001b[0m\n\u001b[0m\u001b[1;32m    333\u001b[0m \u001b[0;34m\u001b[0m\u001b[0m\n\u001b[1;32m    334\u001b[0m     \u001b[0;32mdef\u001b[0m \u001b[0m_fit\u001b[0m\u001b[0;34m(\u001b[0m\u001b[0mself\u001b[0m\u001b[0;34m,\u001b[0m \u001b[0mdataset\u001b[0m\u001b[0;34m)\u001b[0m\u001b[0;34m:\u001b[0m\u001b[0;34m\u001b[0m\u001b[0;34m\u001b[0m\u001b[0m\n",
            "\u001b[0;32m/content/drive/My Drive/Colab Notebooks/py4j/java_gateway.py\u001b[0m in \u001b[0;36m__call__\u001b[0;34m(self, *args)\u001b[0m\n\u001b[1;32m   1320\u001b[0m         \u001b[0manswer\u001b[0m \u001b[0;34m=\u001b[0m \u001b[0mself\u001b[0m\u001b[0;34m.\u001b[0m\u001b[0mgateway_client\u001b[0m\u001b[0;34m.\u001b[0m\u001b[0msend_command\u001b[0m\u001b[0;34m(\u001b[0m\u001b[0mcommand\u001b[0m\u001b[0;34m)\u001b[0m\u001b[0;34m\u001b[0m\u001b[0;34m\u001b[0m\u001b[0m\n\u001b[1;32m   1321\u001b[0m         return_value = get_return_value(\n\u001b[0;32m-> 1322\u001b[0;31m             answer, self.gateway_client, self.target_id, self.name)\n\u001b[0m\u001b[1;32m   1323\u001b[0m \u001b[0;34m\u001b[0m\u001b[0m\n\u001b[1;32m   1324\u001b[0m         \u001b[0;32mfor\u001b[0m \u001b[0mtemp_arg\u001b[0m \u001b[0;32min\u001b[0m \u001b[0mtemp_args\u001b[0m\u001b[0;34m:\u001b[0m\u001b[0;34m\u001b[0m\u001b[0;34m\u001b[0m\u001b[0m\n",
            "\u001b[0;32m/content/drive/My Drive/Colab Notebooks/pyspark/sql/utils.py\u001b[0m in \u001b[0;36mdeco\u001b[0;34m(*a, **kw)\u001b[0m\n\u001b[1;32m    115\u001b[0m                 \u001b[0;31m# Hide where the exception came from that shows a non-Pythonic\u001b[0m\u001b[0;34m\u001b[0m\u001b[0;34m\u001b[0m\u001b[0;34m\u001b[0m\u001b[0m\n\u001b[1;32m    116\u001b[0m                 \u001b[0;31m# JVM exception message.\u001b[0m\u001b[0;34m\u001b[0m\u001b[0;34m\u001b[0m\u001b[0;34m\u001b[0m\u001b[0m\n\u001b[0;32m--> 117\u001b[0;31m                 \u001b[0;32mraise\u001b[0m \u001b[0mconverted\u001b[0m \u001b[0;32mfrom\u001b[0m \u001b[0;32mNone\u001b[0m\u001b[0;34m\u001b[0m\u001b[0;34m\u001b[0m\u001b[0m\n\u001b[0m\u001b[1;32m    118\u001b[0m             \u001b[0;32melse\u001b[0m\u001b[0;34m:\u001b[0m\u001b[0;34m\u001b[0m\u001b[0;34m\u001b[0m\u001b[0m\n\u001b[1;32m    119\u001b[0m                 \u001b[0;32mraise\u001b[0m\u001b[0;34m\u001b[0m\u001b[0;34m\u001b[0m\u001b[0m\n",
            "\u001b[0;31mIllegalArgumentException\u001b[0m: requirement failed: The input column Churn must be either string type or numeric type, but got BooleanType."
          ]
        }
      ]
    },
    {
      "cell_type": "code",
      "source": [
        ""
      ],
      "metadata": {
        "id": "JReG0WTnIjGu"
      },
      "execution_count": null,
      "outputs": []
    },
    {
      "cell_type": "code",
      "source": [
        "assemblerInputs = [c + 'ClassVec' for c in categorical_cols] + numeric_cols\n",
        "assembler = VectorAssembler(inputCols=assemblerInputs, outputCol='features')\n",
        "stages += [assembler]"
      ],
      "metadata": {
        "id": "WNjT7pk3K_x-"
      },
      "execution_count": null,
      "outputs": []
    },
    {
      "cell_type": "code",
      "source": [
        "stages"
      ],
      "metadata": {
        "colab": {
          "base_uri": "https://localhost:8080/"
        },
        "id": "IydfcTLVK_uf",
        "outputId": "b2df310d-57cc-4f85-ca9b-4f3e71269e4b"
      },
      "execution_count": null,
      "outputs": [
        {
          "output_type": "execute_result",
          "data": {
            "text/plain": [
              "[StringIndexer_d8eb3e75d422,\n",
              " OneHotEncoder_54e7a6d462f4,\n",
              " StringIndexer_48947de02322,\n",
              " OneHotEncoder_13ae5cf75461,\n",
              " StringIndexer_325af6db2333,\n",
              " OneHotEncoder_2dc6581ee87a,\n",
              " VectorAssembler_32008dc6ff8d]"
            ]
          },
          "metadata": {},
          "execution_count": 39
        }
      ]
    },
    {
      "cell_type": "code",
      "source": [
        "pipeline = Pipeline(stages=stages)\n",
        "pipelineModel=pipeline.fit(churn_df)\n",
        "dataset = pipelineModel.transform(churn_df)\n",
        "selected_cols = ['features'] + churn_df.columns\n"
      ],
      "metadata": {
        "id": "HD70c61dK_q2"
      },
      "execution_count": null,
      "outputs": []
    },
    {
      "cell_type": "code",
      "source": [
        "dataset.select(selected_cols)"
      ],
      "metadata": {
        "colab": {
          "base_uri": "https://localhost:8080/"
        },
        "id": "aa-98mkwK_nr",
        "outputId": "a72c23f9-9e9c-4069-b93f-5bb465a13a9d"
      },
      "execution_count": null,
      "outputs": [
        {
          "output_type": "execute_result",
          "data": {
            "text/plain": [
              "DataFrame[features: vector, State: string, Account length: int, Area code: string, International plan: string, Voice mail plan: string, Number vmail messages: int, Total day minutes: double, Total day calls: int, Total day charge: double, Total eve minutes: double, Total eve calls: int, Total eve charge: double, Total night minutes: double, Total night calls: int, Total night charge: double, Total intl minutes: double, Total intl calls: int, Total intl charge: double, Customer service calls: int, Churn: boolean, Churn_int: int]"
            ]
          },
          "metadata": {},
          "execution_count": 41
        }
      ]
    },
    {
      "cell_type": "code",
      "source": [
        "dataset.select(selected_cols).show()"
      ],
      "metadata": {
        "colab": {
          "base_uri": "https://localhost:8080/"
        },
        "id": "HRX30m1ciS7E",
        "outputId": "3c9fb839-39d9-48dc-f61f-aa576f5c2ea1"
      },
      "execution_count": null,
      "outputs": [
        {
          "output_type": "stream",
          "name": "stdout",
          "text": [
            "+--------------------+-----+--------------+---------+------------------+---------------+---------------------+-----------------+---------------+----------------+-----------------+---------------+----------------+-------------------+-----------------+------------------+------------------+----------------+-----------------+----------------------+-----+---------+\n",
            "|            features|State|Account length|Area code|International plan|Voice mail plan|Number vmail messages|Total day minutes|Total day calls|Total day charge|Total eve minutes|Total eve calls|Total eve charge|Total night minutes|Total night calls|Total night charge|Total intl minutes|Total intl calls|Total intl charge|Customer service calls|Churn|Churn_int|\n",
            "+--------------------+-----+--------------+---------+------------------+---------------+---------------------+-----------------+---------------+----------------+-----------------+---------------+----------------+-------------------+-----------------+------------------+------------------+----------------+-----------------+----------------------+-----+---------+\n",
            "|(63,[22,50,52,53,...|   KS|           128|      415|                No|            Yes|                   25|            265.1|            110|           45.07|            197.4|             99|           16.78|              244.7|               91|             11.01|              10.0|               3|              2.7|                     1|false|        0|\n",
            "|(63,[5,50,52,53,5...|   OH|           107|      415|                No|            Yes|                   26|            161.6|            123|           27.47|            195.5|            103|           16.62|              254.4|              103|             11.45|              13.7|               3|              3.7|                     1|false|        0|\n",
            "|(63,[27,50,51,52,...|   NJ|           137|      415|                No|             No|                    0|            243.4|            114|           41.38|            121.2|            110|            10.3|              162.6|              104|              7.32|              12.2|               5|             3.29|                     0|false|        0|\n",
            "|(63,[5,51,52,54,5...|   OH|            84|      408|               Yes|             No|                    0|            299.4|             71|            50.9|             61.9|             88|            5.26|              196.9|               89|              8.86|               6.6|               7|             1.78|                     2|false|        0|\n",
            "|(63,[24,51,52,54,...|   OK|            75|      415|               Yes|             No|                    0|            166.7|            113|           28.34|            148.3|            122|           12.61|              186.9|              121|              8.41|              10.1|               3|             2.73|                     3|false|        0|\n",
            "|(63,[4,51,52,54,5...|   AL|           118|      510|               Yes|             No|                    0|            223.4|             98|           37.98|            220.6|            101|           18.75|              203.9|              118|              9.18|               6.3|               6|              1.7|                     0|false|        0|\n",
            "|(63,[23,50,52,53,...|   MA|           121|      510|                No|            Yes|                   24|            218.2|             88|           37.09|            348.5|            108|           29.62|              212.6|              118|              9.57|               7.5|               7|             2.03|                     3|false|        0|\n",
            "|(63,[26,51,52,54,...|   MO|           147|      415|               Yes|             No|                    0|            157.0|             79|           26.69|            103.1|             94|            8.76|              211.8|               96|              9.53|               7.1|               6|             1.92|                     0|false|        0|\n",
            "|(63,[0,52,53,54,5...|   WV|           141|      415|               Yes|            Yes|                   37|            258.6|             84|           43.96|            222.0|            111|           18.87|              326.4|               97|             14.69|              11.2|               5|             3.02|                     0|false|        0|\n",
            "|(63,[33,50,51,52,...|   RI|            74|      415|                No|             No|                    0|            187.7|            127|           31.91|            163.4|            148|           13.89|              196.0|               94|              8.82|               9.1|               5|             2.46|                     0|false|        0|\n",
            "|(63,[47,50,51,52,...|   IA|           168|      408|                No|             No|                    0|            128.8|             96|            21.9|            104.9|             71|            8.92|              141.1|              128|              6.35|              11.2|               2|             3.02|                     1|false|        0|\n",
            "|(63,[21,50,51,52,...|   MT|            95|      510|                No|             No|                    0|            156.6|             88|           26.62|            247.6|             75|           21.05|              192.3|              115|              8.65|              12.3|               5|             3.32|                     3|false|        0|\n",
            "|(63,[47,50,51,52,...|   IA|            62|      415|                No|             No|                    0|            120.7|             70|           20.52|            307.2|             76|           26.11|              203.0|               99|              9.14|              13.1|               6|             3.54|                     4|false|        0|\n",
            "|(63,[16,50,52,53,...|   ID|            85|      408|                No|            Yes|                   27|            196.4|            139|           33.39|            280.9|             90|           23.88|               89.3|               75|              4.02|              13.8|               4|             3.73|                     1|false|        0|\n",
            "|(63,[15,50,51,52,...|   VT|            93|      510|                No|             No|                    0|            190.7|            114|           32.42|            218.2|            111|           18.55|              129.6|              121|              5.83|               8.1|               3|             2.19|                     3|false|        0|\n",
            "|(63,[3,50,52,53,5...|   VA|            76|      510|                No|            Yes|                   33|            189.7|             66|           32.25|            212.8|             65|           18.09|              165.7|              108|              7.46|              10.0|               5|              2.7|                     1|false|        0|\n",
            "|(63,[18,50,51,52,...|   TX|            73|      415|                No|             No|                    0|            224.4|             90|           38.15|            159.5|             88|           13.56|              192.8|               74|              8.68|              13.0|               2|             3.51|                     1|false|        0|\n",
            "|(63,[19,50,51,52,...|   FL|           147|      415|                No|             No|                    0|            155.1|            117|           26.37|            239.7|             93|           20.37|              208.8|              133|               9.4|              10.6|               4|             2.86|                     0|false|        0|\n",
            "|(63,[12,50,51,52,...|   CO|            77|      408|                No|             No|                    0|             62.4|             89|           10.61|            169.9|            121|           14.44|              209.6|               64|              9.43|               5.7|               6|             1.54|                     5| true|        1|\n",
            "|(63,[36,50,51,52,...|   AZ|           130|      415|                No|             No|                    0|            183.0|            112|           31.11|             72.9|             99|             6.2|              181.8|               78|              8.18|               9.5|              19|             2.57|                     0|false|        0|\n",
            "+--------------------+-----+--------------+---------+------------------+---------------+---------------------+-----------------+---------------+----------------+-----------------+---------------+----------------+-------------------+-----------------+------------------+------------------+----------------+-----------------+----------------------+-----+---------+\n",
            "only showing top 20 rows\n",
            "\n"
          ]
        }
      ]
    },
    {
      "cell_type": "code",
      "source": [
        "new_dataset = dataset.select(selected_cols)"
      ],
      "metadata": {
        "id": "pOeCjAgeWWWv"
      },
      "execution_count": null,
      "outputs": []
    },
    {
      "cell_type": "code",
      "source": [
        "trainingData, testData = dataset.randomSplit([0.7, 0.3], seed=43)"
      ],
      "metadata": {
        "id": "JGsd9Sx5WWTM"
      },
      "execution_count": null,
      "outputs": []
    },
    {
      "cell_type": "code",
      "source": [
        "trainingData.show()"
      ],
      "metadata": {
        "colab": {
          "base_uri": "https://localhost:8080/"
        },
        "id": "kZOc1dGkWWO-",
        "outputId": "63126366-cf16-4a86-f5b3-d7831e48a2ed"
      },
      "execution_count": null,
      "outputs": [
        {
          "output_type": "stream",
          "name": "stdout",
          "text": [
            "+-----+--------------+---------+------------------+---------------+---------------------+-----------------+---------------+----------------+-----------------+---------------+----------------+-------------------+-----------------+------------------+------------------+----------------+-----------------+----------------------+-----+---------+----------+---------------+-----------------------+--------------------------+--------------------+-----------------------+--------------------+\n",
            "|State|Account length|Area code|International plan|Voice mail plan|Number vmail messages|Total day minutes|Total day calls|Total day charge|Total eve minutes|Total eve calls|Total eve charge|Total night minutes|Total night calls|Total night charge|Total intl minutes|Total intl calls|Total intl charge|Customer service calls|Churn|Churn_int|StateIndex|  StateClassVec|International planIndex|International planClassVec|Voice mail planIndex|Voice mail planClassVec|            features|\n",
            "+-----+--------------+---------+------------------+---------------+---------------------+-----------------+---------------+----------------+-----------------+---------------+----------------+-------------------+-----------------+------------------+------------------+----------------+-----------------+----------------------+-----+---------+----------+---------------+-----------------------+--------------------------+--------------------+-----------------------+--------------------+\n",
            "|   AK|            48|      415|                No|            Yes|                   37|            211.7|            115|           35.99|            159.9|             84|           13.59|              144.1|               80|              6.48|              12.2|               1|             3.29|                     1|false|        0|      43.0|(50,[43],[1.0])|                    0.0|             (1,[0],[1.0])|                 1.0|              (1,[],[])|(63,[43,50,52,53,...|\n",
            "|   AK|            50|      408|                No|             No|                    0|            183.6|            107|           31.21|             58.6|            118|            4.98|              202.6|               99|              9.12|               8.7|               3|             2.35|                     1|false|        0|      43.0|(50,[43],[1.0])|                    0.0|             (1,[0],[1.0])|                 0.0|          (1,[0],[1.0])|(63,[43,50,51,52,...|\n",
            "|   AK|            51|      510|               Yes|            Yes|                   12|            135.8|             60|           23.09|            200.6|            134|           17.05|              192.4|               98|              8.66|              12.3|               7|             3.32|                     2|false|        0|      43.0|(50,[43],[1.0])|                    1.0|                 (1,[],[])|                 1.0|              (1,[],[])|(63,[43,52,53,54,...|\n",
            "|   AK|            52|      408|                No|             No|                    0|            217.0|            104|           36.89|            152.3|             83|           12.95|              134.3|              109|              6.04|              11.8|               4|             3.19|                     2|false|        0|      43.0|(50,[43],[1.0])|                    0.0|             (1,[0],[1.0])|                 0.0|          (1,[0],[1.0])|(63,[43,50,51,52,...|\n",
            "|   AK|            59|      408|                No|             No|                    0|            159.5|             96|           27.12|            167.2|            123|           14.21|              138.6|              106|              6.24|              10.2|               4|             2.75|                     0|false|        0|      43.0|(50,[43],[1.0])|                    0.0|             (1,[0],[1.0])|                 0.0|          (1,[0],[1.0])|(63,[43,50,51,52,...|\n",
            "|   AK|            59|      510|                No|             No|                    0|            182.5|            104|           31.03|            204.7|             95|            17.4|              229.9|              100|             10.35|              11.3|               8|             3.05|                     4|false|        0|      43.0|(50,[43],[1.0])|                    0.0|             (1,[0],[1.0])|                 0.0|          (1,[0],[1.0])|(63,[43,50,51,52,...|\n",
            "|   AK|            61|      415|                No|            Yes|                   15|            252.4|            106|           42.91|            187.8|             69|           15.96|              259.6|              137|             11.68|              10.0|               3|              2.7|                     2|false|        0|      43.0|(50,[43],[1.0])|                    0.0|             (1,[0],[1.0])|                 1.0|              (1,[],[])|(63,[43,50,52,53,...|\n",
            "|   AK|            71|      510|                No|             No|                    0|            185.0|             84|           31.45|            232.5|            129|           19.76|              191.1|               82|               8.6|              14.9|               4|             4.02|                     3|false|        0|      43.0|(50,[43],[1.0])|                    0.0|             (1,[0],[1.0])|                 0.0|          (1,[0],[1.0])|(63,[43,50,51,52,...|\n",
            "|   AK|            74|      415|                No|             No|                    0|            262.3|            114|           44.59|            198.9|             96|           16.91|              165.9|               90|              7.47|               6.6|               5|             1.78|                     3|false|        0|      43.0|(50,[43],[1.0])|                    0.0|             (1,[0],[1.0])|                 0.0|          (1,[0],[1.0])|(63,[43,50,51,52,...|\n",
            "|   AK|            76|      415|                No|             No|                    0|            143.7|             55|           24.43|            173.1|            108|           14.71|              239.1|               95|             10.76|               5.8|               6|             1.57|                     1|false|        0|      43.0|(50,[43],[1.0])|                    0.0|             (1,[0],[1.0])|                 0.0|          (1,[0],[1.0])|(63,[43,50,51,52,...|\n",
            "|   AK|            78|      510|                No|             No|                    0|            190.3|             88|           32.35|            194.5|             89|           16.53|              256.5|              109|             11.54|              11.7|               5|             3.16|                     2|false|        0|      43.0|(50,[43],[1.0])|                    0.0|             (1,[0],[1.0])|                 0.0|          (1,[0],[1.0])|(63,[43,50,51,52,...|\n",
            "|   AK|            97|      415|                No|            Yes|                   24|            176.1|            109|           29.94|            159.4|             81|           13.55|              269.1|               94|             12.11|              12.1|               9|             3.27|                     0|false|        0|      43.0|(50,[43],[1.0])|                    0.0|             (1,[0],[1.0])|                 1.0|              (1,[],[])|(63,[43,50,52,53,...|\n",
            "|   AK|           101|      510|                No|             No|                    0|            174.9|            105|           29.73|            262.0|             75|           22.27|              210.0|               93|              9.45|               8.5|               5|              2.3|                     1|false|        0|      43.0|(50,[43],[1.0])|                    0.0|             (1,[0],[1.0])|                 0.0|          (1,[0],[1.0])|(63,[43,50,51,52,...|\n",
            "|   AK|           108|      415|                No|             No|                    0|            103.0|            129|           17.51|            242.3|            103|            20.6|              170.2|               89|              7.66|               7.9|               3|             2.13|                     1|false|        0|      43.0|(50,[43],[1.0])|                    0.0|             (1,[0],[1.0])|                 0.0|          (1,[0],[1.0])|(63,[43,50,51,52,...|\n",
            "|   AK|           110|      415|                No|             No|                    0|            148.4|             95|           25.23|            193.8|             98|           16.47|              206.0|              106|              9.27|               6.9|               6|             1.86|                     0|false|        0|      43.0|(50,[43],[1.0])|                    0.0|             (1,[0],[1.0])|                 0.0|          (1,[0],[1.0])|(63,[43,50,51,52,...|\n",
            "|   AK|           111|      415|                No|             No|                    0|            172.8|             58|           29.38|            183.1|            108|           15.56|              158.8|              104|              7.15|               7.9|               3|             2.13|                     4| true|        1|      43.0|(50,[43],[1.0])|                    0.0|             (1,[0],[1.0])|                 0.0|          (1,[0],[1.0])|(63,[43,50,51,52,...|\n",
            "|   AK|           117|      415|                No|             No|                    0|            181.5|             95|           30.86|            205.1|             88|           17.43|              204.0|               82|              9.18|              14.7|               9|             3.97|                     2|false|        0|      43.0|(50,[43],[1.0])|                    0.0|             (1,[0],[1.0])|                 0.0|          (1,[0],[1.0])|(63,[43,50,51,52,...|\n",
            "|   AK|           120|      415|                No|             No|                    0|            178.4|             97|           30.33|            168.3|            113|           14.31|              120.5|               93|              5.42|               9.3|               9|             2.51|                     1|false|        0|      43.0|(50,[43],[1.0])|                    0.0|             (1,[0],[1.0])|                 0.0|          (1,[0],[1.0])|(63,[43,50,51,52,...|\n",
            "|   AK|           126|      415|                No|             No|                    0|             58.2|             94|            9.89|            138.7|            118|           11.79|              136.8|               91|              6.16|              11.9|               1|             3.21|                     5| true|        1|      43.0|(50,[43],[1.0])|                    0.0|             (1,[0],[1.0])|                 0.0|          (1,[0],[1.0])|(63,[43,50,51,52,...|\n",
            "|   AK|           126|      415|                No|            Yes|                   31|            278.0|             88|           47.26|            253.2|             65|           21.52|              223.2|              114|             10.04|               8.7|               4|             2.35|                     0|false|        0|      43.0|(50,[43],[1.0])|                    0.0|             (1,[0],[1.0])|                 1.0|              (1,[],[])|(63,[43,50,52,53,...|\n",
            "+-----+--------------+---------+------------------+---------------+---------------------+-----------------+---------------+----------------+-----------------+---------------+----------------+-------------------+-----------------+------------------+------------------+----------------+-----------------+----------------------+-----+---------+----------+---------------+-----------------------+--------------------------+--------------------+-----------------------+--------------------+\n",
            "only showing top 20 rows\n",
            "\n"
          ]
        }
      ]
    },
    {
      "cell_type": "code",
      "source": [
        "churn_int = churn_df.select(col('Churn').cast('int'))"
      ],
      "metadata": {
        "id": "ZBeIWQfyaS66"
      },
      "execution_count": null,
      "outputs": []
    },
    {
      "cell_type": "code",
      "source": [
        "churn_int.show(3)"
      ],
      "metadata": {
        "colab": {
          "base_uri": "https://localhost:8080/"
        },
        "id": "-TwijeDmbS7m",
        "outputId": "a0571414-bcf2-4e18-b29b-ba1159535435"
      },
      "execution_count": null,
      "outputs": [
        {
          "output_type": "stream",
          "name": "stdout",
          "text": [
            "+-----+\n",
            "|Churn|\n",
            "+-----+\n",
            "|    0|\n",
            "|    0|\n",
            "|    0|\n",
            "+-----+\n",
            "only showing top 3 rows\n",
            "\n"
          ]
        }
      ]
    },
    {
      "cell_type": "code",
      "source": [
        "churn_int.select(avg('Churn')).show()"
      ],
      "metadata": {
        "colab": {
          "base_uri": "https://localhost:8080/"
        },
        "id": "GGicVahBbS32",
        "outputId": "26537185-62b6-4570-86bf-db9a6cc6b2eb"
      },
      "execution_count": null,
      "outputs": [
        {
          "output_type": "stream",
          "name": "stdout",
          "text": [
            "+-----------------+\n",
            "|       avg(Churn)|\n",
            "+-----------------+\n",
            "|0.145536384096024|\n",
            "+-----------------+\n",
            "\n"
          ]
        }
      ]
    },
    {
      "cell_type": "code",
      "source": [
        "churn_int.select(avg('Churn')).collect()"
      ],
      "metadata": {
        "colab": {
          "base_uri": "https://localhost:8080/"
        },
        "id": "SYY3OTMefHdk",
        "outputId": "b8d5e138-9d63-40a5-cee9-75ec991fd8ee"
      },
      "execution_count": null,
      "outputs": [
        {
          "output_type": "execute_result",
          "data": {
            "text/plain": [
              "[Row(avg(Churn)=0.145536384096024)]"
            ]
          },
          "metadata": {},
          "execution_count": 49
        }
      ]
    },
    {
      "cell_type": "code",
      "source": [
        "churn_int.select(avg('Churn')).collect()[0]"
      ],
      "metadata": {
        "colab": {
          "base_uri": "https://localhost:8080/"
        },
        "id": "A1aNWCJhfIc6",
        "outputId": "eb451457-bbba-48b0-8196-4c25cb27fa65"
      },
      "execution_count": null,
      "outputs": [
        {
          "output_type": "execute_result",
          "data": {
            "text/plain": [
              "Row(avg(Churn)=0.145536384096024)"
            ]
          },
          "metadata": {},
          "execution_count": 50
        }
      ]
    },
    {
      "cell_type": "code",
      "source": [
        "churn_int.select(avg('Churn')).collect()[0][0]"
      ],
      "metadata": {
        "colab": {
          "base_uri": "https://localhost:8080/"
        },
        "id": "qbLAzhYvfNNS",
        "outputId": "dc9206ea-6c81-46ca-9ba1-9cec9f100bbd"
      },
      "execution_count": null,
      "outputs": [
        {
          "output_type": "execute_result",
          "data": {
            "text/plain": [
              "0.145536384096024"
            ]
          },
          "metadata": {},
          "execution_count": 51
        }
      ]
    },
    {
      "cell_type": "code",
      "source": [
        "churn_df.select(avg('Churn_int')).collect()[0][0]"
      ],
      "metadata": {
        "colab": {
          "base_uri": "https://localhost:8080/"
        },
        "id": "GQO_gwsyiv9B",
        "outputId": "3c7192ca-305a-4a8f-c1b2-e6385799921f"
      },
      "execution_count": null,
      "outputs": [
        {
          "output_type": "execute_result",
          "data": {
            "text/plain": [
              "0.145536384096024"
            ]
          },
          "metadata": {},
          "execution_count": 52
        }
      ]
    },
    {
      "cell_type": "code",
      "source": [
        "training_data_positive_rate = churn_int.select(avg('Churn')).collect()[0][0]"
      ],
      "metadata": {
        "id": "PbGnh-IJa9wB"
      },
      "execution_count": null,
      "outputs": []
    },
    {
      "cell_type": "code",
      "source": [
        "training_data_positive_rate"
      ],
      "metadata": {
        "colab": {
          "base_uri": "https://localhost:8080/"
        },
        "id": "i4CEiy1Se8on",
        "outputId": "6225da8d-06e1-4f06-ae8d-0e3edfe62c28"
      },
      "execution_count": null,
      "outputs": [
        {
          "output_type": "execute_result",
          "data": {
            "text/plain": [
              "0.145536384096024"
            ]
          },
          "metadata": {},
          "execution_count": 54
        }
      ]
    },
    {
      "cell_type": "code",
      "source": [
        "from pyspark.ml.classification import LogisticRegression"
      ],
      "metadata": {
        "id": "3u6suXPxiSzC"
      },
      "execution_count": null,
      "outputs": []
    },
    {
      "cell_type": "code",
      "source": [
        "lr = LogisticRegression(labelCol='Churn_int', featuresCol='features', maxIter=10)\n",
        "lr.setThreshold(training_data_positive_rate)\n",
        "lrModel = lr.fit(trainingData)\n"
      ],
      "metadata": {
        "id": "XtxHdjGAYCnk"
      },
      "execution_count": null,
      "outputs": []
    },
    {
      "cell_type": "code",
      "source": [
        "lrTrainingSummary = lrModel.summary"
      ],
      "metadata": {
        "id": "EZVLR7i-YCk-"
      },
      "execution_count": null,
      "outputs": []
    },
    {
      "cell_type": "code",
      "source": [
        "lrTrainingSummary.areaUnderROC"
      ],
      "metadata": {
        "colab": {
          "base_uri": "https://localhost:8080/"
        },
        "id": "hgQIbYf1YChm",
        "outputId": "a26b34d8-d204-4fff-cf1d-68ffcd04e861"
      },
      "execution_count": null,
      "outputs": [
        {
          "output_type": "execute_result",
          "data": {
            "text/plain": [
              "0.858655604771157"
            ]
          },
          "metadata": {},
          "execution_count": 58
        }
      ]
    },
    {
      "cell_type": "code",
      "source": [
        "lrTrainingSummary.accuracy"
      ],
      "metadata": {
        "colab": {
          "base_uri": "https://localhost:8080/"
        },
        "id": "D8WH9UumYCem",
        "outputId": "9760aea1-5639-440b-8a30-191dbbf0f2af"
      },
      "execution_count": null,
      "outputs": [
        {
          "output_type": "execute_result",
          "data": {
            "text/plain": [
              "0.7921108742004265"
            ]
          },
          "metadata": {},
          "execution_count": 59
        }
      ]
    },
    {
      "cell_type": "code",
      "source": [
        "# lrTrainingSummary.fMeasureByThreshold.groupBy().max('F-Measure').select(max('F-Measure'))"
      ],
      "metadata": {
        "id": "6CZiEFS9YCbU"
      },
      "execution_count": null,
      "outputs": []
    },
    {
      "cell_type": "code",
      "source": [
        "lrTrainingSummary.fMeasureByThreshold"
      ],
      "metadata": {
        "colab": {
          "base_uri": "https://localhost:8080/"
        },
        "id": "KEU78UowYCYB",
        "outputId": "74bd9afe-84bb-435a-dfe5-440acab3001e"
      },
      "execution_count": null,
      "outputs": [
        {
          "output_type": "stream",
          "name": "stderr",
          "text": [
            "/content/drive/My Drive/Colab Notebooks/pyspark/sql/context.py:127: FutureWarning: Deprecated in 3.0.0. Use SparkSession.builder.getOrCreate() instead.\n",
            "  FutureWarning\n"
          ]
        },
        {
          "output_type": "execute_result",
          "data": {
            "text/plain": [
              "DataFrame[threshold: double, F-Measure: double]"
            ]
          },
          "metadata": {},
          "execution_count": 61
        }
      ]
    },
    {
      "cell_type": "code",
      "source": [
        "fMeasure = lrTrainingSummary.fMeasureByThreshold\n",
        "maxFMeasure = fMeasure.groupBy().max('F-Measure').select('max(F-Measure)').head()\n",
        "lrBestThreshold = fMeasure.where(fMeasure['F-Measure'] == maxFMeasure['max(F-Measure)']) \\\n",
        "    .select('threshold').head()['threshold']\n"
      ],
      "metadata": {
        "colab": {
          "base_uri": "https://localhost:8080/"
        },
        "id": "atsNRp-UISnv",
        "outputId": "432391f0-f047-479b-ae86-4b8d1523383a"
      },
      "execution_count": null,
      "outputs": [
        {
          "output_type": "stream",
          "name": "stderr",
          "text": [
            "/content/drive/My Drive/Colab Notebooks/pyspark/sql/context.py:127: FutureWarning: Deprecated in 3.0.0. Use SparkSession.builder.getOrCreate() instead.\n",
            "  FutureWarning\n"
          ]
        }
      ]
    },
    {
      "cell_type": "markdown",
      "source": [
        "Another way to define threshold for logistic regression model"
      ],
      "metadata": {
        "id": "IT-wBrt_JIPd"
      }
    },
    {
      "cell_type": "code",
      "source": [
        "print(\"Best threshold based on model performance on training data is {}\".format(lrBestThreshold))"
      ],
      "metadata": {
        "colab": {
          "base_uri": "https://localhost:8080/"
        },
        "id": "JmkEC7ksYCVA",
        "outputId": "9676195b-1e5f-4937-cda9-3047ae89ce30"
      },
      "execution_count": null,
      "outputs": [
        {
          "output_type": "stream",
          "name": "stdout",
          "text": [
            "Best threshold based on model performance on training data is 0.2514696168123214\n"
          ]
        }
      ]
    },
    {
      "cell_type": "code",
      "source": [
        ""
      ],
      "metadata": {
        "id": "7kmGsgrVI_ie"
      },
      "execution_count": null,
      "outputs": []
    },
    {
      "cell_type": "code",
      "source": [
        "lr_predictions = lrModel.transform(testData)"
      ],
      "metadata": {
        "id": "A0MnwSjTke-q"
      },
      "execution_count": null,
      "outputs": []
    },
    {
      "cell_type": "code",
      "source": [
        "lr_predictions.select('Churn_int', 'prediction', 'probability').show()"
      ],
      "metadata": {
        "colab": {
          "base_uri": "https://localhost:8080/"
        },
        "id": "Lzj_-rnhYCSf",
        "outputId": "cca1d3ca-9509-40f1-c7c7-f564f85f08c0"
      },
      "execution_count": null,
      "outputs": [
        {
          "output_type": "stream",
          "name": "stdout",
          "text": [
            "+---------+----------+--------------------+\n",
            "|Churn_int|prediction|         probability|\n",
            "+---------+----------+--------------------+\n",
            "|        0|       0.0|[0.96893453107695...|\n",
            "|        0|       0.0|[0.99004272431352...|\n",
            "|        0|       0.0|[0.94607736601517...|\n",
            "|        0|       0.0|[0.91519180563481...|\n",
            "|        0|       0.0|[0.91322699344844...|\n",
            "|        0|       0.0|[0.85834087941087...|\n",
            "|        0|       0.0|[0.96938131328713...|\n",
            "|        0|       1.0|[0.83625813207296...|\n",
            "|        0|       0.0|[0.91671262286715...|\n",
            "|        0|       0.0|[0.95616112930349...|\n",
            "|        0|       0.0|[0.98442587493108...|\n",
            "|        0|       0.0|[0.98261803149751...|\n",
            "|        0|       1.0|[0.61176608385925...|\n",
            "|        0|       0.0|[0.99319155232654...|\n",
            "|        0|       1.0|[0.57332957954357...|\n",
            "|        0|       0.0|[0.97939315456381...|\n",
            "|        1|       0.0|[0.89150783750402...|\n",
            "|        0|       0.0|[0.89986598861988...|\n",
            "|        0|       0.0|[0.95137198957028...|\n",
            "|        0|       0.0|[0.98632137882297...|\n",
            "+---------+----------+--------------------+\n",
            "only showing top 20 rows\n",
            "\n"
          ]
        }
      ]
    },
    {
      "cell_type": "code",
      "source": [
        ""
      ],
      "metadata": {
        "id": "-mfcSJuWh-jR"
      },
      "execution_count": null,
      "outputs": []
    },
    {
      "cell_type": "code",
      "source": [
        "from pyspark.ml.evaluation import BinaryClassificationEvaluator\n",
        "from pyspark.mllib.evaluation import BinaryClassificationMetrics, MulticlassMetrics  "
      ],
      "metadata": {
        "id": "pV0Yy2P5D0rm"
      },
      "execution_count": null,
      "outputs": []
    },
    {
      "cell_type": "code",
      "source": [
        "test_evaluator = BinaryClassificationEvaluator(rawPredictionCol='rawPrediction', labelCol='Churn_int')"
      ],
      "metadata": {
        "id": "NlmqSr3bbM3w"
      },
      "execution_count": null,
      "outputs": []
    },
    {
      "cell_type": "code",
      "source": [
        "test_auc = test_evaluator.evaluate(lr_predictions, {test_evaluator.metricName:'areaUnderROC'})"
      ],
      "metadata": {
        "id": "eozGF8D-bMsS"
      },
      "execution_count": null,
      "outputs": []
    },
    {
      "cell_type": "code",
      "source": [
        "test_auc"
      ],
      "metadata": {
        "colab": {
          "base_uri": "https://localhost:8080/"
        },
        "id": "3VYR0m45aFZk",
        "outputId": "df5d670c-50fd-4b4a-8a09-c08b8cd8f5f1"
      },
      "execution_count": null,
      "outputs": [
        {
          "output_type": "execute_result",
          "data": {
            "text/plain": [
              "0.7717916343291366"
            ]
          },
          "metadata": {},
          "execution_count": 68
        }
      ]
    },
    {
      "cell_type": "code",
      "source": [
        "lr_predictions.select('prediction', 'Churn_int').show()"
      ],
      "metadata": {
        "colab": {
          "base_uri": "https://localhost:8080/"
        },
        "id": "wO6ZGczecuDE",
        "outputId": "7e9f982d-1e34-4e86-899a-ef6cd3c4b64a"
      },
      "execution_count": null,
      "outputs": [
        {
          "output_type": "stream",
          "name": "stdout",
          "text": [
            "+----------+---------+\n",
            "|prediction|Churn_int|\n",
            "+----------+---------+\n",
            "|       0.0|        0|\n",
            "|       0.0|        0|\n",
            "|       0.0|        0|\n",
            "|       0.0|        0|\n",
            "|       0.0|        0|\n",
            "|       0.0|        0|\n",
            "|       0.0|        0|\n",
            "|       1.0|        0|\n",
            "|       0.0|        0|\n",
            "|       0.0|        0|\n",
            "|       0.0|        0|\n",
            "|       0.0|        0|\n",
            "|       1.0|        0|\n",
            "|       0.0|        0|\n",
            "|       1.0|        0|\n",
            "|       0.0|        0|\n",
            "|       0.0|        1|\n",
            "|       0.0|        0|\n",
            "|       0.0|        0|\n",
            "|       0.0|        0|\n",
            "+----------+---------+\n",
            "only showing top 20 rows\n",
            "\n"
          ]
        }
      ]
    },
    {
      "cell_type": "code",
      "source": [
        "type(lr_predictions.select('prediction', col('Churn_int').cast(\"double\").alias('Churn_int')))"
      ],
      "metadata": {
        "colab": {
          "base_uri": "https://localhost:8080/"
        },
        "id": "su-LvVXHMopG",
        "outputId": "fc1f23ba-5bcf-454e-ae8c-8e99a7378769"
      },
      "execution_count": null,
      "outputs": [
        {
          "output_type": "execute_result",
          "data": {
            "text/plain": [
              "pyspark.sql.dataframe.DataFrame"
            ]
          },
          "metadata": {},
          "execution_count": 81
        }
      ]
    },
    {
      "cell_type": "code",
      "source": [
        "type(lr_predictions.select('prediction', col('Churn_int').cast(\"double\").alias('Churn_int')).rdd)"
      ],
      "metadata": {
        "colab": {
          "base_uri": "https://localhost:8080/"
        },
        "id": "68jiQPp8Mgbf",
        "outputId": "c9c77669-6c01-4de6-e859-60d08acf0144"
      },
      "execution_count": null,
      "outputs": [
        {
          "output_type": "execute_result",
          "data": {
            "text/plain": [
              "pyspark.rdd.RDD"
            ]
          },
          "metadata": {},
          "execution_count": 80
        }
      ]
    },
    {
      "cell_type": "markdown",
      "source": [
        "Had an error with float required (int as label/Churn_int)\n",
        "\n",
        "https://stackoverflow.com/questions/49729510/pyspark-ml-type-error-when-computing-precision-and-recall\n"
      ],
      "metadata": {
        "id": "TkE6r44neKMp"
      }
    },
    {
      "cell_type": "code",
      "source": [
        "def print_performance_metrics(predictions):\n",
        "  evaluator = BinaryClassificationEvaluator(rawPredictionCol='rawPrediction', labelCol='Churn_int')\n",
        "  auc = evaluator.evaluate(predictions, {evaluator.metricName:'areaUnderROC'})\n",
        "  aupr = evaluator.evaluate(predictions, {evaluator.metricName:'areaUnderPR'})\n",
        "\n",
        "  print(f'AUC is {auc}')\n",
        "  print(f'AUPR is {aupr}')\n",
        "\n",
        "  # https://stackoverflow.com/questions/49729510/pyspark-ml-type-error-when-computing-precision-and-recall\n",
        "  # predictions = (predictions.withColumn('Churn_int', predictions['Churn_int'].cast(\"double\")))\n",
        "  prediction_labels = predictions.select('prediction', col('Churn_int').cast(\"double\").alias('Churn_int')).rdd\n",
        "  \n",
        "  print(\"test 3\")\n",
        "  # BinaryClassificationMetrics seems to generate the FutureWarning, but a google search didn't help\n",
        "  binary_metrics = BinaryClassificationMetrics(prediction_labels)\n",
        "  print(\"test 4\")\n",
        "  multi_metrics = MulticlassMetrics(prediction_labels)\n",
        "  \n",
        "  print(f'Area under PR: {binary_metrics.areaUnderPR}')\n",
        "  print(f'Area under ROC: {binary_metrics.areaUnderROC}')\n",
        "  print(f'Accuracy: {multi_metrics.accuracy}')\n",
        "  print(\"\\n\")\n",
        "  print(multi_metrics.confusionMatrix())\n",
        "\n",
        "  print(\"\\n\")\n",
        "  print(f'F1: {multi_metrics.weightedFMeasure(1.0)}')\n",
        "  print(f'Precision: {multi_metrics.weightedPrecision}')\n",
        "  print(f'Recall: {multi_metrics.weightedRecall}')\n",
        "  print(f'False Positive Rate: {multi_metrics.weightedFalsePositiveRate}')\n",
        "  print(f'True Positive Rate: {multi_metrics.weightedTruePositiveRate}')"
      ],
      "metadata": {
        "id": "mrt-asjYm2cg"
      },
      "execution_count": null,
      "outputs": []
    },
    {
      "cell_type": "code",
      "source": [
        "print_performance_metrics(lr_predictions)"
      ],
      "metadata": {
        "colab": {
          "base_uri": "https://localhost:8080/"
        },
        "id": "CQKw5Ffrm2LD",
        "outputId": "d262e060-ae53-4b20-cd69-97326072b2f8"
      },
      "execution_count": null,
      "outputs": [
        {
          "output_type": "stream",
          "name": "stdout",
          "text": [
            "AUC is 0.7717916343291366\n",
            "AUPR is 0.43524606186786075\n",
            "test 3\n"
          ]
        },
        {
          "output_type": "stream",
          "name": "stderr",
          "text": [
            "/content/drive/My Drive/Colab Notebooks/pyspark/sql/context.py:127: FutureWarning: Deprecated in 3.0.0. Use SparkSession.builder.getOrCreate() instead.\n",
            "  FutureWarning\n"
          ]
        },
        {
          "output_type": "stream",
          "name": "stdout",
          "text": [
            "test 4\n",
            "Area under PR: 0.33720413962949475\n",
            "Area under ROC: 0.7205284435126087\n",
            "Accuracy: 0.7582278481012659\n",
            "\n",
            "\n",
            "DenseMatrix([[512., 147.],\n",
            "             [ 44.,  87.]])\n",
            "\n",
            "\n",
            "F1: 0.7820929497402919\n",
            "Precision: 0.829815251985364\n",
            "Recall: 0.7582278481012659\n",
            "False Positive Rate: 0.3171709610760483\n",
            "True Positive Rate: 0.7582278481012659\n"
          ]
        }
      ]
    },
    {
      "cell_type": "code",
      "source": [
        ""
      ],
      "metadata": {
        "id": "CM3x_nXTosCh"
      },
      "execution_count": null,
      "outputs": []
    },
    {
      "cell_type": "markdown",
      "source": [
        "Gradient Boosting Classifier"
      ],
      "metadata": {
        "id": "wt7BXYgpy9kg"
      }
    },
    {
      "cell_type": "code",
      "source": [
        "from pyspark.ml.classification import GBTClassifier"
      ],
      "metadata": {
        "id": "PkdEUH-sKJtr"
      },
      "execution_count": null,
      "outputs": []
    },
    {
      "cell_type": "code",
      "source": [
        "gb = GBTClassifier(labelCol='Churn_int', featuresCol='features', maxIter=10)\n",
        "gbModel = gb.fit(trainingData)"
      ],
      "metadata": {
        "id": "Kcij6g6OKOA7"
      },
      "execution_count": null,
      "outputs": []
    },
    {
      "cell_type": "code",
      "source": [
        "gbPredictions = gbModel.transform(testData)"
      ],
      "metadata": {
        "id": "NSNp0vA6OZuA"
      },
      "execution_count": null,
      "outputs": []
    },
    {
      "cell_type": "code",
      "source": [
        "gbPredictions.show()"
      ],
      "metadata": {
        "colab": {
          "base_uri": "https://localhost:8080/"
        },
        "id": "HUwS9-ECOoG8",
        "outputId": "de328105-f4cc-46c0-a76d-1cc89cd0745f"
      },
      "execution_count": null,
      "outputs": [
        {
          "output_type": "stream",
          "name": "stdout",
          "text": [
            "+-----+--------------+---------+------------------+---------------+---------------------+-----------------+---------------+----------------+-----------------+---------------+----------------+-------------------+-----------------+------------------+------------------+----------------+-----------------+----------------------+-----+---------+----------+---------------+-----------------------+--------------------------+--------------------+-----------------------+--------------------+--------------------+--------------------+----------+\n",
            "|State|Account length|Area code|International plan|Voice mail plan|Number vmail messages|Total day minutes|Total day calls|Total day charge|Total eve minutes|Total eve calls|Total eve charge|Total night minutes|Total night calls|Total night charge|Total intl minutes|Total intl calls|Total intl charge|Customer service calls|Churn|Churn_int|StateIndex|  StateClassVec|International planIndex|International planClassVec|Voice mail planIndex|Voice mail planClassVec|            features|       rawPrediction|         probability|prediction|\n",
            "+-----+--------------+---------+------------------+---------------+---------------------+-----------------+---------------+----------------+-----------------+---------------+----------------+-------------------+-----------------+------------------+------------------+----------------+-----------------+----------------------+-----+---------+----------+---------------+-----------------------+--------------------------+--------------------+-----------------------+--------------------+--------------------+--------------------+----------+\n",
            "|   AK|            41|      415|                No|             No|                    0|            159.3|             66|           27.08|            125.9|             75|            10.7|              261.9|               76|             11.79|              11.1|               5|              3.0|                     1|false|        0|      43.0|(50,[43],[1.0])|                    0.0|             (1,[0],[1.0])|                 0.0|          (1,[0],[1.0])|(63,[43,50,51,52,...|[1.15994079840075...|[0.91051029348894...|       0.0|\n",
            "|   AK|            52|      415|                No|            Yes|                   24|            170.9|             71|           29.05|            201.4|             80|           17.12|              159.0|              124|              7.15|               4.1|               5|             1.11|                     2|false|        0|      43.0|(50,[43],[1.0])|                    0.0|             (1,[0],[1.0])|                 1.0|              (1,[],[])|(63,[43,50,52,53,...|[1.23450715969858...|[0.92194085896299...|       0.0|\n",
            "|   AK|            52|      510|                No|             No|                    0|            148.3|             83|           25.21|            181.6|             79|           15.44|              155.6|              104|               7.0|               8.3|               6|             2.24|                     3|false|        0|      43.0|(50,[43],[1.0])|                    0.0|             (1,[0],[1.0])|                 0.0|          (1,[0],[1.0])|(63,[43,50,51,52,...|[1.25083035141783...|[0.92425815944643...|       0.0|\n",
            "|   AK|            58|      510|                No|             No|                    0|            131.9|             96|           22.42|            167.6|            107|           14.25|              205.9|              106|              9.27|              14.7|               5|             3.97|                     3|false|        0|      43.0|(50,[43],[1.0])|                    0.0|             (1,[0],[1.0])|                 0.0|          (1,[0],[1.0])|(63,[43,50,51,52,...|[1.25083035141783...|[0.92425815944643...|       0.0|\n",
            "|   AK|            78|      408|                No|             No|                    0|            225.1|             67|           38.27|            199.2|            127|           16.93|              175.5|              102|               7.9|              14.6|               2|             3.94|                     0|false|        0|      43.0|(50,[43],[1.0])|                    0.0|             (1,[0],[1.0])|                 0.0|          (1,[0],[1.0])|(63,[43,50,51,52,...|[1.12781030771182...|[0.90513425639192...|       0.0|\n",
            "|   AK|            86|      408|                No|             No|                    0|            150.8|             85|           25.64|            295.9|             88|           25.15|              247.2|              104|             11.12|              12.5|               1|             3.38|                     1|false|        0|      43.0|(50,[43],[1.0])|                    0.0|             (1,[0],[1.0])|                 0.0|          (1,[0],[1.0])|(63,[43,50,51,52,...|[1.14671864617772...|[0.90833205796609...|       0.0|\n",
            "|   AK|           100|      415|                No|            Yes|                   29|            213.6|            127|           36.31|            175.9|             82|           14.95|              207.2|              100|              9.32|               8.9|               3|              2.4|                     1|false|        0|      43.0|(50,[43],[1.0])|                    0.0|             (1,[0],[1.0])|                 1.0|              (1,[],[])|(63,[43,50,52,53,...|[1.24599762553616...|[0.92357874862450...|       0.0|\n",
            "|   AK|           103|      510|                No|             No|                    0|            190.9|             62|           32.45|            226.6|             53|           19.26|              230.1|               96|             10.35|               7.8|               3|             2.11|                     2|false|        0|      43.0|(50,[43],[1.0])|                    0.0|             (1,[0],[1.0])|                 0.0|          (1,[0],[1.0])|(63,[43,50,51,52,...|[1.25083035141783...|[0.92425815944643...|       0.0|\n",
            "|   AK|           104|      408|                No|             No|                    0|            278.4|            106|           47.33|             81.0|            113|            6.89|              163.2|              137|              7.34|               9.8|               5|             2.65|                     1|false|        0|      43.0|(50,[43],[1.0])|                    0.0|             (1,[0],[1.0])|                 0.0|          (1,[0],[1.0])|(63,[43,50,51,52,...|[0.92488104028391...|[0.86409916610458...|       0.0|\n",
            "|   AK|           115|      415|                No|             No|                    0|            210.6|            120|            35.8|            153.1|             84|           13.01|              262.2|               79|              11.8|              11.0|               5|             2.97|                     0|false|        0|      43.0|(50,[43],[1.0])|                    0.0|             (1,[0],[1.0])|                 0.0|          (1,[0],[1.0])|(63,[43,50,51,52,...|[1.15510807251908...|[0.90971960882710...|       0.0|\n",
            "|   AK|           121|      408|                No|            Yes|                   34|            245.0|             95|           41.65|            216.9|             66|           18.44|              112.4|              125|              5.06|               7.5|               8|             2.03|                     0|false|        0|      43.0|(50,[43],[1.0])|                    0.0|             (1,[0],[1.0])|                 1.0|              (1,[],[])|(63,[43,50,52,53,...|[1.22023979350214...|[0.91986244795435...|       0.0|\n",
            "|   AK|           127|      510|                No|            Yes|                   36|            183.2|            117|           31.14|            126.8|             76|           10.78|              263.3|               71|             11.85|              11.2|               8|             3.02|                     1|false|        0|      43.0|(50,[43],[1.0])|                    0.0|             (1,[0],[1.0])|                 1.0|              (1,[],[])|(63,[43,50,52,53,...|[1.21833567018750...|[0.91958127181162...|       0.0|\n",
            "|   AK|           136|      415|               Yes|            Yes|                   33|            203.9|            106|           34.66|            187.6|             99|           15.95|              101.7|              107|              4.58|              10.5|               6|             2.84|                     3|false|        0|      43.0|(50,[43],[1.0])|                    1.0|                 (1,[],[])|                 1.0|              (1,[],[])|(63,[43,52,53,54,...|[1.26757880365312...|[0.92657003964856...|       0.0|\n",
            "|   AK|           141|      408|                No|             No|                    0|             83.2|             74|           14.14|            190.6|            104|            16.2|              150.5|               79|              6.77|              10.7|               7|             2.89|                     1|false|        0|      43.0|(50,[43],[1.0])|                    0.0|             (1,[0],[1.0])|                 0.0|          (1,[0],[1.0])|(63,[43,50,51,52,...|[1.25083035141783...|[0.92425815944643...|       0.0|\n",
            "|   AK|           146|      510|               Yes|             No|                    0|            133.0|             65|           22.61|            262.8|             93|           22.34|              214.3|              128|              9.64|              11.2|               3|             3.02|                     1|false|        0|      43.0|(50,[43],[1.0])|                    1.0|                 (1,[],[])|                 0.0|          (1,[0],[1.0])|(63,[43,51,52,54,...|[1.26800272819428...|[0.92662770474648...|       0.0|\n",
            "|   AL|            16|      408|                No|             No|                    0|            209.5|             89|           35.62|            172.8|             85|           14.69|               94.1|              102|              4.23|               8.8|               4|             2.38|                     1|false|        0|       4.0| (50,[4],[1.0])|                    0.0|             (1,[0],[1.0])|                 0.0|          (1,[0],[1.0])|(63,[4,50,51,52,5...|[1.25083035141783...|[0.92425815944643...|       0.0|\n",
            "|   AL|            25|      408|                No|             No|                    0|            264.9|             80|           45.03|            281.2|             66|            23.9|              166.1|               80|              7.47|               8.4|               4|             2.27|                     1| true|        1|       4.0| (50,[4],[1.0])|                    0.0|             (1,[0],[1.0])|                 0.0|          (1,[0],[1.0])|(63,[4,50,51,52,5...|[-0.3928428030531...|[0.31309580333875...|       1.0|\n",
            "|   AL|            69|      415|                No|             No|                    0|            183.4|             85|           31.18|            237.6|            100|            20.2|              228.0|               94|             10.26|               9.0|               5|             2.43|                     3|false|        0|       4.0| (50,[4],[1.0])|                    0.0|             (1,[0],[1.0])|                 0.0|          (1,[0],[1.0])|(63,[4,50,51,52,5...|[1.25083035141783...|[0.92425815944643...|       0.0|\n",
            "|   AL|            70|      415|                No|             No|                    0|            230.3|            110|           39.15|             77.9|             87|            6.62|              247.1|              105|             11.12|              13.2|               4|             3.56|                     1|false|        0|       4.0| (50,[4],[1.0])|                    0.0|             (1,[0],[1.0])|                 0.0|          (1,[0],[1.0])|(63,[4,50,51,52,5...|[1.10730507879625...|[0.90155385720076...|       0.0|\n",
            "|   AL|            73|      415|                No|             No|                    0|            192.2|             86|           32.67|            168.6|            116|           14.33|              139.8|               87|              6.29|               9.4|               6|             2.54|                     1|false|        0|       4.0| (50,[4],[1.0])|                    0.0|             (1,[0],[1.0])|                 0.0|          (1,[0],[1.0])|(63,[4,50,51,52,5...|[1.25083035141783...|[0.92425815944643...|       0.0|\n",
            "+-----+--------------+---------+------------------+---------------+---------------------+-----------------+---------------+----------------+-----------------+---------------+----------------+-------------------+-----------------+------------------+------------------+----------------+-----------------+----------------------+-----+---------+----------+---------------+-----------------------+--------------------------+--------------------+-----------------------+--------------------+--------------------+--------------------+----------+\n",
            "only showing top 20 rows\n",
            "\n"
          ]
        }
      ]
    },
    {
      "cell_type": "code",
      "source": [
        "print_performance_metrics(gbPredictions)"
      ],
      "metadata": {
        "colab": {
          "base_uri": "https://localhost:8080/"
        },
        "id": "SHGGduBMOqhJ",
        "outputId": "ca6b81e9-9a51-4a7b-ccb6-0c332bcdc056"
      },
      "execution_count": null,
      "outputs": [
        {
          "output_type": "stream",
          "name": "stdout",
          "text": [
            "AUC is 0.917646445574488\n",
            "AUPR is 0.8659905203544027\n",
            "test 3\n"
          ]
        },
        {
          "output_type": "stream",
          "name": "stderr",
          "text": [
            "/content/drive/My Drive/Colab Notebooks/pyspark/sql/context.py:127: FutureWarning: Deprecated in 3.0.0. Use SparkSession.builder.getOrCreate() instead.\n",
            "  FutureWarning\n"
          ]
        },
        {
          "output_type": "stream",
          "name": "stdout",
          "text": [
            "test 4\n",
            "Area under PR: 0.7994936979779526\n",
            "Area under ROC: 0.8580662349847675\n",
            "Accuracy: 0.9417721518987342\n",
            "\n",
            "\n",
            "DenseMatrix([[648.,  11.],\n",
            "             [ 35.,  96.]])\n",
            "\n",
            "\n",
            "F1: 0.939356960313224\n",
            "Precision: 0.9402057955807317\n",
            "Recall: 0.9417721518987342\n",
            "False Positive Rate: 0.22563968192919903\n",
            "True Positive Rate: 0.9417721518987342\n"
          ]
        }
      ]
    },
    {
      "cell_type": "markdown",
      "source": [
        "Seems like a pretty good improvement over logistic regression"
      ],
      "metadata": {
        "id": "kyNvaNcAO0sE"
      }
    },
    {
      "cell_type": "code",
      "source": [
        "# print(gb.explainParams())"
      ],
      "metadata": {
        "id": "KHlhTBVeO8bT"
      },
      "execution_count": null,
      "outputs": []
    },
    {
      "cell_type": "markdown",
      "source": [
        "Cross Validation"
      ],
      "metadata": {
        "id": "53cPwIVSPPtV"
      }
    },
    {
      "cell_type": "code",
      "source": [
        "from pyspark.ml.tuning import CrossValidator, ParamGridBuilder"
      ],
      "metadata": {
        "id": "VLDE7boSPXJt"
      },
      "execution_count": null,
      "outputs": []
    },
    {
      "cell_type": "code",
      "source": [
        "gbParamBuilder = (ParamGridBuilder()\n",
        "                  .addGrid(gb.maxDepth, [5,10])\n",
        "                  .addGrid(gb.maxIter, [2,5])\n",
        "                  .build())\n"
      ],
      "metadata": {
        "id": "1TJu-AvZPbxL"
      },
      "execution_count": null,
      "outputs": []
    },
    {
      "cell_type": "code",
      "source": [
        "evaluator = BinaryClassificationEvaluator(rawPredictionCol='rawPrediction', labelCol='Churn_int')"
      ],
      "metadata": {
        "id": "-qGsBOGzQ0Tn"
      },
      "execution_count": null,
      "outputs": []
    },
    {
      "cell_type": "code",
      "source": [
        "gbCV = CrossValidator(estimator=gb, estimatorParamMaps=gbParamBuilder, numFolds=5, evaluator = evaluator)"
      ],
      "metadata": {
        "id": "ITkfyIHIQcWw"
      },
      "execution_count": null,
      "outputs": []
    },
    {
      "cell_type": "code",
      "source": [
        "gbCVModel = gbCV.fit(trainingData)\n"
      ],
      "metadata": {
        "id": "aDWUDj-tQmzW"
      },
      "execution_count": null,
      "outputs": []
    },
    {
      "cell_type": "code",
      "source": [
        "print(gbCVModel.bestModel._java_obj.getMaxDepth())\n",
        "print(gbCVModel.bestModel._java_obj.getMaxIter())"
      ],
      "metadata": {
        "colab": {
          "base_uri": "https://localhost:8080/"
        },
        "id": "HkY2EZ-WRKsH",
        "outputId": "04b64e83-efdc-480c-f710-943df4a3dc2d"
      },
      "execution_count": null,
      "outputs": [
        {
          "output_type": "stream",
          "name": "stdout",
          "text": [
            "5\n",
            "5\n"
          ]
        }
      ]
    },
    {
      "cell_type": "code",
      "source": [
        "gbParamBuilder = (ParamGridBuilder()\n",
        "                  .addGrid(gb.maxDepth, [3,5])\n",
        "                  .addGrid(gb.maxIter, [5,8])\n",
        "                  .build())\n"
      ],
      "metadata": {
        "id": "2QmG32T4RN7U"
      },
      "execution_count": null,
      "outputs": []
    },
    {
      "cell_type": "code",
      "source": [
        "gbCVModel = gbCV.fit(trainingData)"
      ],
      "metadata": {
        "id": "i9zmSKYUR2bF"
      },
      "execution_count": null,
      "outputs": []
    },
    {
      "cell_type": "code",
      "source": [
        "print(gbCVModel.bestModel._java_obj.getMaxDepth())\n",
        "print(gbCVModel.bestModel._java_obj.getMaxIter())"
      ],
      "metadata": {
        "colab": {
          "base_uri": "https://localhost:8080/"
        },
        "id": "lFa1k1cNR5QU",
        "outputId": "23ce87fe-6afd-42bf-a539-35c67df665ef"
      },
      "execution_count": null,
      "outputs": [
        {
          "output_type": "stream",
          "name": "stdout",
          "text": [
            "5\n",
            "5\n"
          ]
        }
      ]
    },
    {
      "cell_type": "code",
      "source": [
        "gb2 = GBTClassifier(labelCol='Churn_int', featuresCol='features', maxIter=5, maxDepth=5)\n",
        "gb2Model = gb2.fit(trainingData)"
      ],
      "metadata": {
        "id": "IxtjUjOjR6bk"
      },
      "execution_count": null,
      "outputs": []
    },
    {
      "cell_type": "code",
      "source": [
        "gb2Predictions = gb2Model.transform(testData)"
      ],
      "metadata": {
        "id": "lhDCzdspSRyP"
      },
      "execution_count": null,
      "outputs": []
    },
    {
      "cell_type": "code",
      "source": [
        "print_performance_metrics(gb2Predictions)"
      ],
      "metadata": {
        "colab": {
          "base_uri": "https://localhost:8080/"
        },
        "id": "zC7MswB9SWxG",
        "outputId": "e339feb4-6ac3-45c3-f04c-d086b55c67ff"
      },
      "execution_count": null,
      "outputs": [
        {
          "output_type": "stream",
          "name": "stdout",
          "text": [
            "AUC is 0.9132562638279139\n",
            "AUPR is 0.8575627886373561\n",
            "test 3\n"
          ]
        },
        {
          "output_type": "stream",
          "name": "stderr",
          "text": [
            "/content/drive/My Drive/Colab Notebooks/pyspark/sql/context.py:127: FutureWarning: Deprecated in 3.0.0. Use SparkSession.builder.getOrCreate() instead.\n",
            "  FutureWarning\n"
          ]
        },
        {
          "output_type": "stream",
          "name": "stdout",
          "text": [
            "test 4\n",
            "Area under PR: 0.8214140063196318\n",
            "Area under ROC: 0.86721727345388\n",
            "Accuracy: 0.9468354430379747\n",
            "\n",
            "\n",
            "DenseMatrix([[650.,   9.],\n",
            "             [ 33.,  98.]])\n",
            "\n",
            "\n",
            "F1: 0.9446302681120743\n",
            "Precision: 0.9457479727280238\n",
            "Recall: 0.9468354430379747\n",
            "False Positive Rate: 0.21240089613021482\n",
            "True Positive Rate: 0.9468354430379747\n"
          ]
        }
      ]
    },
    {
      "cell_type": "markdown",
      "source": [
        "Lower AUC / AUPR\n",
        "\n",
        "Very slight improvement based on the Confusion Matrix / F1 score"
      ],
      "metadata": {
        "id": "9o6jzPF5Sap0"
      }
    },
    {
      "cell_type": "code",
      "source": [
        ""
      ],
      "metadata": {
        "id": "BxnxzefWTUKA"
      },
      "execution_count": null,
      "outputs": []
    },
    {
      "cell_type": "markdown",
      "source": [
        "Feature Importance"
      ],
      "metadata": {
        "id": "3U-OraYgSkdE"
      }
    },
    {
      "cell_type": "code",
      "source": [
        "from itertools import chain"
      ],
      "metadata": {
        "id": "YN-SLAKlTXMN"
      },
      "execution_count": null,
      "outputs": []
    },
    {
      "cell_type": "code",
      "source": [
        "attrs = sorted((attr['idx'], attr['name']) for attr in (chain(*gb2Predictions\n",
        "                                                              .schema[gbCVModel.bestModel.summary.featuresCol]\n",
        "                                                              .metadata['ml_attr']['attrs'].values())))"
      ],
      "metadata": {
        "colab": {
          "base_uri": "https://localhost:8080/",
          "height": 205
        },
        "id": "TxmEzQSFTc6F",
        "outputId": "a10f1952-1094-49a2-b488-8f11a80f0e02"
      },
      "execution_count": null,
      "outputs": [
        {
          "output_type": "error",
          "ename": "AttributeError",
          "evalue": "ignored",
          "traceback": [
            "\u001b[0;31m---------------------------------------------------------------------------\u001b[0m",
            "\u001b[0;31mAttributeError\u001b[0m                            Traceback (most recent call last)",
            "\u001b[0;32m<ipython-input-172-a589df75c9cc>\u001b[0m in \u001b[0;36m<module>\u001b[0;34m()\u001b[0m\n\u001b[1;32m      1\u001b[0m attrs = sorted((attr['idx'], attr['name']) for attr in (chain(*gb2Predictions\n\u001b[0;32m----> 2\u001b[0;31m                                                               \u001b[0;34m.\u001b[0m\u001b[0mschema\u001b[0m\u001b[0;34m[\u001b[0m\u001b[0mgbCVModel\u001b[0m\u001b[0;34m.\u001b[0m\u001b[0mbestModel\u001b[0m\u001b[0;34m.\u001b[0m\u001b[0msummary\u001b[0m\u001b[0;34m.\u001b[0m\u001b[0mfeaturesCol\u001b[0m\u001b[0;34m]\u001b[0m\u001b[0;34m\u001b[0m\u001b[0;34m\u001b[0m\u001b[0m\n\u001b[0m\u001b[1;32m      3\u001b[0m                                                               .metadata['ml_attr']['attrs'].values())))\n",
            "\u001b[0;31mAttributeError\u001b[0m: 'GBTClassificationModel' object has no attribute 'summary'"
          ]
        }
      ]
    },
    {
      "cell_type": "code",
      "source": [
        "attrs = sorted((attr['idx'], attr['name']) for attr in (chain(*gb2Predictions\n",
        "                                                              .schema['features']\n",
        "                                                              .metadata['ml_attr']['attrs'].values())))"
      ],
      "metadata": {
        "id": "gBoHDCBzYPVO"
      },
      "execution_count": null,
      "outputs": []
    },
    {
      "cell_type": "code",
      "source": [
        "type(attrs)"
      ],
      "metadata": {
        "colab": {
          "base_uri": "https://localhost:8080/"
        },
        "id": "4Xe1SoK6YioD",
        "outputId": "44e0a334-e49a-4193-fb67-cb1e519de3a5"
      },
      "execution_count": null,
      "outputs": [
        {
          "output_type": "execute_result",
          "data": {
            "text/plain": [
              "list"
            ]
          },
          "metadata": {},
          "execution_count": 114
        }
      ]
    },
    {
      "cell_type": "code",
      "source": [
        "attrs[0:10]"
      ],
      "metadata": {
        "colab": {
          "base_uri": "https://localhost:8080/"
        },
        "id": "T5JzbsvFYUe4",
        "outputId": "49e2ca80-137f-4867-9ab9-cf3d68570ab7"
      },
      "execution_count": null,
      "outputs": [
        {
          "output_type": "execute_result",
          "data": {
            "text/plain": [
              "[(0, 'StateClassVec_WV'),\n",
              " (1, 'StateClassVec_MN'),\n",
              " (2, 'StateClassVec_NY'),\n",
              " (3, 'StateClassVec_VA'),\n",
              " (4, 'StateClassVec_AL'),\n",
              " (5, 'StateClassVec_OH'),\n",
              " (6, 'StateClassVec_WY'),\n",
              " (7, 'StateClassVec_OR'),\n",
              " (8, 'StateClassVec_NV'),\n",
              " (9, 'StateClassVec_WI')]"
            ]
          },
          "metadata": {},
          "execution_count": 113
        }
      ]
    },
    {
      "cell_type": "code",
      "source": [
        ""
      ],
      "metadata": {
        "id": "1flRaXIjYUYe"
      },
      "execution_count": null,
      "outputs": []
    },
    {
      "cell_type": "markdown",
      "source": [
        "Another example\n",
        "\n",
        "https://swan-gallery.web.cern.ch/notebooks/apache_spark1/ML_Spark_MLlib.html"
      ],
      "metadata": {
        "id": "e6OYj3TyXOVj"
      }
    },
    {
      "cell_type": "code",
      "source": [
        ""
      ],
      "metadata": {
        "id": "24WvpdaqXQTN"
      },
      "execution_count": null,
      "outputs": []
    },
    {
      "cell_type": "code",
      "source": [
        "gb_imp = pd.DataFrame([(name, gb2Model.featureImportances[idx]) for idx, name in attrs], columns=['feature_names', 'feature_importance'])"
      ],
      "metadata": {
        "id": "v3vFPHOOY0CD"
      },
      "execution_count": null,
      "outputs": []
    },
    {
      "cell_type": "code",
      "source": [
        "print(gb_imp.sort_values(by=['feature_importance'], ascending=False))"
      ],
      "metadata": {
        "colab": {
          "base_uri": "https://localhost:8080/"
        },
        "id": "86xUVLi2ZMdS",
        "outputId": "7dd85d3e-f562-4613-f798-7d57e562eb5e"
      },
      "execution_count": null,
      "outputs": [
        {
          "output_type": "stream",
          "name": "stdout",
          "text": [
            "                    feature_names  feature_importance\n",
            "54              Total day minutes            0.259022\n",
            "56              Total eve minutes            0.181863\n",
            "62         Customer service calls            0.091071\n",
            "50  International planClassVec_No            0.074373\n",
            "58            Total night minutes            0.061460\n",
            "..                            ...                 ...\n",
            "26               StateClassVec_MO            0.000000\n",
            "27               StateClassVec_NJ            0.000000\n",
            "28               StateClassVec_GA            0.000000\n",
            "33               StateClassVec_RI            0.000000\n",
            "31               StateClassVec_SD            0.000000\n",
            "\n",
            "[63 rows x 2 columns]\n"
          ]
        }
      ]
    },
    {
      "cell_type": "code",
      "source": [
        ""
      ],
      "metadata": {
        "id": "D5_4YQUUZteR"
      },
      "execution_count": null,
      "outputs": []
    },
    {
      "cell_type": "markdown",
      "source": [
        "Maybe try random forest"
      ],
      "metadata": {
        "id": "YFAVila_Z-RI"
      }
    },
    {
      "cell_type": "code",
      "source": [
        "from pyspark.ml.classification import RandomForestClassifier"
      ],
      "metadata": {
        "id": "SoXLbmNnaCHd"
      },
      "execution_count": null,
      "outputs": []
    },
    {
      "cell_type": "code",
      "source": [
        "rf = RandomForestClassifier(labelCol='Churn_int', featuresCol='features', numTrees=50)"
      ],
      "metadata": {
        "id": "MTee1loPbTyJ"
      },
      "execution_count": null,
      "outputs": []
    },
    {
      "cell_type": "code",
      "source": [
        "rfModel = rf.fit(trainingData)"
      ],
      "metadata": {
        "id": "F6i1r3zsbayJ"
      },
      "execution_count": null,
      "outputs": []
    },
    {
      "cell_type": "code",
      "source": [
        "rfPredictions = rfModel.transform(testData)"
      ],
      "metadata": {
        "id": "wUghJjecbyVo"
      },
      "execution_count": null,
      "outputs": []
    },
    {
      "cell_type": "code",
      "source": [
        "print_performance_metrics(rfPredictions)"
      ],
      "metadata": {
        "colab": {
          "base_uri": "https://localhost:8080/"
        },
        "id": "hANS5xcKb0A2",
        "outputId": "a61ae866-09d5-48ad-ba0a-be5760e9671e"
      },
      "execution_count": null,
      "outputs": [
        {
          "output_type": "stream",
          "name": "stdout",
          "text": [
            "AUC is 0.9039488468533153\n",
            "AUPR is 0.7760317270828933\n",
            "test 3\n"
          ]
        },
        {
          "output_type": "stream",
          "name": "stderr",
          "text": [
            "/content/drive/My Drive/Colab Notebooks/pyspark/sql/context.py:127: FutureWarning: Deprecated in 3.0.0. Use SparkSession.builder.getOrCreate() instead.\n",
            "  FutureWarning\n"
          ]
        },
        {
          "output_type": "stream",
          "name": "stdout",
          "text": [
            "test 4\n",
            "Area under PR: 0.16582278481012658\n",
            "Area under ROC: 0.5\n",
            "Accuracy: 0.8341772151898734\n",
            "\n",
            "\n",
            "DenseMatrix([[659.,   0.],\n",
            "             [131.,   0.]])\n",
            "\n",
            "\n",
            "F1: 0.7587616077434459\n",
            "Precision: 0.6958516263419323\n",
            "Recall: 0.8341772151898734\n",
            "False Positive Rate: 0.8341772151898734\n",
            "True Positive Rate: 0.8341772151898734\n"
          ]
        }
      ]
    },
    {
      "cell_type": "markdown",
      "source": [
        "Confusion matrix doesn't look good. All the values are on the left side, i.e. high false positive rate."
      ],
      "metadata": {
        "id": "roipXCTJc7mx"
      }
    },
    {
      "cell_type": "code",
      "source": [
        ""
      ],
      "metadata": {
        "id": "VdfB_d6UdEc1"
      },
      "execution_count": null,
      "outputs": []
    },
    {
      "cell_type": "code",
      "source": [
        "rfParamBuilder = (ParamGridBuilder()\n",
        "                  .addGrid(rf.numTrees, [50,60])\n",
        "                  .addGrid(rf.maxDepth, [2,4])\n",
        "                  .build())\n"
      ],
      "metadata": {
        "id": "Qj5y3YVVdsGW"
      },
      "execution_count": null,
      "outputs": []
    },
    {
      "cell_type": "code",
      "source": [
        "rfCV = CrossValidator(estimator=rf, estimatorParamMaps=rfParamBuilder, numFolds=5, evaluator = evaluator)"
      ],
      "metadata": {
        "id": "tK0l7O85dsGX"
      },
      "execution_count": null,
      "outputs": []
    },
    {
      "cell_type": "code",
      "source": [
        "rfCVModel = rfCV.fit(trainingData)\n"
      ],
      "metadata": {
        "id": "TXLKRrbAdsGY"
      },
      "execution_count": null,
      "outputs": []
    },
    {
      "cell_type": "code",
      "source": [
        "print(rfCVModel.bestModel._java_obj.getNumTrees())\n",
        "print(rfCVModel.bestModel._java_obj.getMaxDepth())"
      ],
      "metadata": {
        "colab": {
          "base_uri": "https://localhost:8080/"
        },
        "outputId": "61ca8f8a-60b6-4e34-d9f2-1d11217e51cb",
        "id": "q-Z95eBkdsGZ"
      },
      "execution_count": null,
      "outputs": [
        {
          "output_type": "stream",
          "name": "stdout",
          "text": [
            "50\n",
            "4\n"
          ]
        }
      ]
    },
    {
      "cell_type": "code",
      "source": [
        "rfParamBuilder = (ParamGridBuilder()\n",
        "                  .addGrid(rf.numTrees, [45, 50])\n",
        "                  .addGrid(rf.maxDepth, [4,6])\n",
        "                  .build())\n"
      ],
      "metadata": {
        "id": "rxhwGceXexH4"
      },
      "execution_count": null,
      "outputs": []
    },
    {
      "cell_type": "code",
      "source": [
        "rfCV = CrossValidator(estimator=rf, estimatorParamMaps=rfParamBuilder, numFolds=5, evaluator = evaluator)\n",
        "rfCVModel = rfCV.fit(trainingData)"
      ],
      "metadata": {
        "id": "tRYBK7she6_O"
      },
      "execution_count": null,
      "outputs": []
    },
    {
      "cell_type": "code",
      "source": [
        "print(rfCVModel.bestModel._java_obj.getNumTrees())\n",
        "print(rfCVModel.bestModel._java_obj.getMaxDepth())"
      ],
      "metadata": {
        "colab": {
          "base_uri": "https://localhost:8080/"
        },
        "id": "pSkuOQm7e_iN",
        "outputId": "ac378bd7-38d0-4f4f-8b93-2817ed5b4673"
      },
      "execution_count": null,
      "outputs": [
        {
          "output_type": "stream",
          "name": "stdout",
          "text": [
            "50\n",
            "6\n"
          ]
        }
      ]
    },
    {
      "cell_type": "code",
      "source": [
        "rfParamBuilder = (ParamGridBuilder()\n",
        "                  .addGrid(rf.numTrees, [50, 55])\n",
        "                  .addGrid(rf.maxDepth, [8, 10])\n",
        "                  .build())\n"
      ],
      "metadata": {
        "id": "SNcZj9sHh7sw"
      },
      "execution_count": null,
      "outputs": []
    },
    {
      "cell_type": "code",
      "source": [
        "rfCV = CrossValidator(estimator=rf, estimatorParamMaps=rfParamBuilder, numFolds=5, evaluator = evaluator)\n",
        "rfCVModel = rfCV.fit(trainingData)"
      ],
      "metadata": {
        "id": "3KAHBW9Rh7sy"
      },
      "execution_count": null,
      "outputs": []
    },
    {
      "cell_type": "code",
      "source": [
        "print(rfCVModel.bestModel._java_obj.getNumTrees())\n",
        "print(rfCVModel.bestModel._java_obj.getMaxDepth())"
      ],
      "metadata": {
        "colab": {
          "base_uri": "https://localhost:8080/"
        },
        "outputId": "67be80e5-3c54-4795-8604-c1f3c1db1ce9",
        "id": "VkSe7Seah7sy"
      },
      "execution_count": null,
      "outputs": [
        {
          "output_type": "stream",
          "name": "stdout",
          "text": [
            "50\n",
            "10\n"
          ]
        }
      ]
    },
    {
      "cell_type": "code",
      "source": [
        ""
      ],
      "metadata": {
        "id": "wGzhtr7viChK"
      },
      "execution_count": null,
      "outputs": []
    },
    {
      "cell_type": "code",
      "source": [
        "rf2 = RandomForestClassifier(labelCol='Churn_int', featuresCol='features', numTrees=50, maxDepth=8)"
      ],
      "metadata": {
        "id": "cX8I3pkdiJ-H"
      },
      "execution_count": null,
      "outputs": []
    },
    {
      "cell_type": "code",
      "source": [
        "rf2Model = rf2.fit(trainingData)"
      ],
      "metadata": {
        "id": "_T1pJ2wYiJ-I"
      },
      "execution_count": null,
      "outputs": []
    },
    {
      "cell_type": "code",
      "source": [
        "rf2Predictions = rf2Model.transform(testData)"
      ],
      "metadata": {
        "id": "j_3ogceFiJ-J"
      },
      "execution_count": null,
      "outputs": []
    },
    {
      "cell_type": "code",
      "source": [
        "print_performance_metrics(rf2Predictions)"
      ],
      "metadata": {
        "colab": {
          "base_uri": "https://localhost:8080/"
        },
        "outputId": "69a8c46b-37e8-40b6-8023-f58d13768d54",
        "id": "qL1IHW9YiJ-K"
      },
      "execution_count": null,
      "outputs": [
        {
          "output_type": "stream",
          "name": "stdout",
          "text": [
            "AUC is 0.9136558977863709\n",
            "AUPR is 0.8365579852063898\n",
            "test 3\n"
          ]
        },
        {
          "output_type": "stream",
          "name": "stderr",
          "text": [
            "/content/drive/My Drive/Colab Notebooks/pyspark/sql/context.py:127: FutureWarning: Deprecated in 3.0.0. Use SparkSession.builder.getOrCreate() instead.\n",
            "  FutureWarning\n"
          ]
        },
        {
          "output_type": "stream",
          "name": "stdout",
          "text": [
            "test 4\n",
            "Area under PR: 0.6688762199246304\n",
            "Area under ROC: 0.6030534351145038\n",
            "Accuracy: 0.8683544303797468\n",
            "\n",
            "\n",
            "DenseMatrix([[659.,   0.],\n",
            "             [104.,  27.]])\n",
            "\n",
            "\n",
            "F1: 0.8298420837116559\n",
            "Precision: 0.8862982563830316\n",
            "Recall: 0.8683544303797468\n",
            "False Positive Rate: 0.6622475601507392\n",
            "True Positive Rate: 0.8683544303797468\n"
          ]
        }
      ]
    },
    {
      "cell_type": "code",
      "source": [
        ""
      ],
      "metadata": {
        "id": "yBHJOFW-iTSu"
      },
      "execution_count": null,
      "outputs": []
    },
    {
      "cell_type": "code",
      "source": [
        "rf3 = RandomForestClassifier(labelCol='Churn_int', featuresCol='features', numTrees=50, maxDepth=10)"
      ],
      "metadata": {
        "id": "5wBSzBWAiqcT"
      },
      "execution_count": null,
      "outputs": []
    },
    {
      "cell_type": "code",
      "source": [
        "rf3Model = rf3.fit(trainingData)"
      ],
      "metadata": {
        "id": "va3eO92tiqcV"
      },
      "execution_count": null,
      "outputs": []
    },
    {
      "cell_type": "code",
      "source": [
        "rf3Predictions = rf3Model.transform(testData)"
      ],
      "metadata": {
        "id": "FtX8L2VNiqcW"
      },
      "execution_count": null,
      "outputs": []
    },
    {
      "cell_type": "code",
      "source": [
        "print_performance_metrics(rf3Predictions)"
      ],
      "metadata": {
        "colab": {
          "base_uri": "https://localhost:8080/"
        },
        "outputId": "cd37ecd4-e9fd-4143-9591-84a110c7a4d7",
        "id": "Wen7Hs8-iqcW"
      },
      "execution_count": null,
      "outputs": [
        {
          "output_type": "stream",
          "name": "stdout",
          "text": [
            "AUC is 0.9094973878997795\n",
            "AUPR is 0.8372509293120441\n",
            "test 3\n"
          ]
        },
        {
          "output_type": "stream",
          "name": "stderr",
          "text": [
            "/content/drive/My Drive/Colab Notebooks/pyspark/sql/context.py:127: FutureWarning: Deprecated in 3.0.0. Use SparkSession.builder.getOrCreate() instead.\n",
            "  FutureWarning\n"
          ]
        },
        {
          "output_type": "stream",
          "name": "stdout",
          "text": [
            "test 4\n",
            "Area under PR: 0.6976007549295544\n",
            "Area under ROC: 0.6702382745079869\n",
            "Accuracy: 0.8886075949367088\n",
            "\n",
            "\n",
            "DenseMatrix([[657.,   2.],\n",
            "             [ 86.,  45.]])\n",
            "\n",
            "\n",
            "F1: 0.8656609987438956\n",
            "Precision: 0.8963902247351074\n",
            "Recall: 0.8886075949367088\n",
            "False Positive Rate: 0.548131045920735\n",
            "True Positive Rate: 0.8886075949367088\n"
          ]
        }
      ]
    },
    {
      "cell_type": "markdown",
      "source": [
        "Still not great based on confusion matrix, but better than initial attempts, i.e. false positive rate has decreased a bit."
      ],
      "metadata": {
        "id": "-RA23h1_jBVJ"
      }
    },
    {
      "cell_type": "markdown",
      "source": [
        "Looks like our Gradient Boosting models outperformed Random Forest and Logistic Regression. "
      ],
      "metadata": {
        "id": "iWHiVWJpjGNx"
      }
    },
    {
      "cell_type": "markdown",
      "source": [
        "Five most important features for the Gradient Boosting model:\n",
        "\n",
        "```                    \n",
        "              Total day minutes:            0.259022\n",
        "              Total eve minutes:            0.181863\n",
        "         Customer service calls:            0.091071\n",
        "  International planClassVec_No:            0.074373\n",
        "            Total night minutes:            0.061460\n",
        "```"
      ],
      "metadata": {
        "id": "TeuAGhSOk2GG"
      }
    },
    {
      "cell_type": "code",
      "source": [
        ""
      ],
      "metadata": {
        "id": "4HuYUwp5leg-"
      },
      "execution_count": null,
      "outputs": []
    }
  ]
}